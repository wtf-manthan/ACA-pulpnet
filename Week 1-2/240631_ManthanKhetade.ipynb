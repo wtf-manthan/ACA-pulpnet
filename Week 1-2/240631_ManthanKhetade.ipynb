{
 "cells": [
  {
   "cell_type": "markdown",
   "id": "c9f8efb6-d375-4b30-8a2e-74fea2889d9f",
   "metadata": {},
   "source": [
    "## EDA"
   ]
  },
  {
   "cell_type": "code",
   "execution_count": 1,
   "id": "e74e96c7-908f-42ee-ac57-8211d8d17dff",
   "metadata": {},
   "outputs": [],
   "source": [
    "import numpy as np\n",
    "import pandas as pd\n",
    "import seaborn as sns\n",
    "import matplotlib.pyplot as plt"
   ]
  },
  {
   "cell_type": "code",
   "execution_count": 2,
   "id": "967d09ed-b647-4816-a45c-200fe37becca",
   "metadata": {},
   "outputs": [
    {
     "data": {
      "text/html": [
       "<div>\n",
       "<style scoped>\n",
       "    .dataframe tbody tr th:only-of-type {\n",
       "        vertical-align: middle;\n",
       "    }\n",
       "\n",
       "    .dataframe tbody tr th {\n",
       "        vertical-align: top;\n",
       "    }\n",
       "\n",
       "    .dataframe thead th {\n",
       "        text-align: right;\n",
       "    }\n",
       "</style>\n",
       "<table border=\"1\" class=\"dataframe\">\n",
       "  <thead>\n",
       "    <tr style=\"text-align: right;\">\n",
       "      <th></th>\n",
       "      <th>text</th>\n",
       "      <th>label</th>\n",
       "    </tr>\n",
       "  </thead>\n",
       "  <tbody>\n",
       "    <tr>\n",
       "      <th>0</th>\n",
       "      <td>I grew up (b. 1965) watching and loving the Th...</td>\n",
       "      <td>0</td>\n",
       "    </tr>\n",
       "    <tr>\n",
       "      <th>1</th>\n",
       "      <td>When I put this movie in my DVD player, and sa...</td>\n",
       "      <td>0</td>\n",
       "    </tr>\n",
       "    <tr>\n",
       "      <th>2</th>\n",
       "      <td>Why do people who do not know what a particula...</td>\n",
       "      <td>0</td>\n",
       "    </tr>\n",
       "    <tr>\n",
       "      <th>3</th>\n",
       "      <td>Even though I have great interest in Biblical ...</td>\n",
       "      <td>0</td>\n",
       "    </tr>\n",
       "    <tr>\n",
       "      <th>4</th>\n",
       "      <td>Im a die hard Dads Army fan and nothing will e...</td>\n",
       "      <td>1</td>\n",
       "    </tr>\n",
       "    <tr>\n",
       "      <th>...</th>\n",
       "      <td>...</td>\n",
       "      <td>...</td>\n",
       "    </tr>\n",
       "    <tr>\n",
       "      <th>39995</th>\n",
       "      <td>\"Western Union\" is something of a forgotten cl...</td>\n",
       "      <td>1</td>\n",
       "    </tr>\n",
       "    <tr>\n",
       "      <th>39996</th>\n",
       "      <td>This movie is an incredible piece of work. It ...</td>\n",
       "      <td>1</td>\n",
       "    </tr>\n",
       "    <tr>\n",
       "      <th>39997</th>\n",
       "      <td>My wife and I watched this movie because we pl...</td>\n",
       "      <td>0</td>\n",
       "    </tr>\n",
       "    <tr>\n",
       "      <th>39998</th>\n",
       "      <td>When I first watched Flatliners, I was amazed....</td>\n",
       "      <td>1</td>\n",
       "    </tr>\n",
       "    <tr>\n",
       "      <th>39999</th>\n",
       "      <td>Why would this film be so good, but only gross...</td>\n",
       "      <td>1</td>\n",
       "    </tr>\n",
       "  </tbody>\n",
       "</table>\n",
       "<p>40000 rows × 2 columns</p>\n",
       "</div>"
      ],
      "text/plain": [
       "                                                    text  label\n",
       "0      I grew up (b. 1965) watching and loving the Th...      0\n",
       "1      When I put this movie in my DVD player, and sa...      0\n",
       "2      Why do people who do not know what a particula...      0\n",
       "3      Even though I have great interest in Biblical ...      0\n",
       "4      Im a die hard Dads Army fan and nothing will e...      1\n",
       "...                                                  ...    ...\n",
       "39995  \"Western Union\" is something of a forgotten cl...      1\n",
       "39996  This movie is an incredible piece of work. It ...      1\n",
       "39997  My wife and I watched this movie because we pl...      0\n",
       "39998  When I first watched Flatliners, I was amazed....      1\n",
       "39999  Why would this film be so good, but only gross...      1\n",
       "\n",
       "[40000 rows x 2 columns]"
      ]
     },
     "execution_count": 2,
     "metadata": {},
     "output_type": "execute_result"
    }
   ],
   "source": [
    "df = pd.read_csv('movie.csv')\n",
    "df"
   ]
  },
  {
   "cell_type": "code",
   "execution_count": 3,
   "id": "2dccbf91-e786-4f5d-b90e-40fd0ba0f079",
   "metadata": {},
   "outputs": [
    {
     "data": {
      "text/plain": [
       "text     0\n",
       "label    0\n",
       "dtype: int64"
      ]
     },
     "execution_count": 3,
     "metadata": {},
     "output_type": "execute_result"
    }
   ],
   "source": [
    "# no missing entries\n",
    "df.isnull().sum()"
   ]
  },
  {
   "cell_type": "code",
   "execution_count": 4,
   "id": "7e9cd067-ca7d-4384-b32e-2dce82973d50",
   "metadata": {},
   "outputs": [
    {
     "data": {
      "text/plain": [
       "array([0, 1], dtype=int64)"
      ]
     },
     "execution_count": 4,
     "metadata": {},
     "output_type": "execute_result"
    }
   ],
   "source": [
    "# labels only have 1s and 0s\n",
    "df['label'].unique()"
   ]
  },
  {
   "cell_type": "code",
   "execution_count": 5,
   "id": "b708a28b-ad66-44e3-975b-829541531cf9",
   "metadata": {},
   "outputs": [
    {
     "data": {
      "text/plain": [
       "277"
      ]
     },
     "execution_count": 5,
     "metadata": {},
     "output_type": "execute_result"
    }
   ],
   "source": [
    "df.duplicated().sum()"
   ]
  },
  {
   "cell_type": "code",
   "execution_count": 6,
   "id": "0ca44645-7b42-4dfd-9c18-2db09cf07d60",
   "metadata": {},
   "outputs": [
    {
     "data": {
      "text/html": [
       "<div>\n",
       "<style scoped>\n",
       "    .dataframe tbody tr th:only-of-type {\n",
       "        vertical-align: middle;\n",
       "    }\n",
       "\n",
       "    .dataframe tbody tr th {\n",
       "        vertical-align: top;\n",
       "    }\n",
       "\n",
       "    .dataframe thead th {\n",
       "        text-align: right;\n",
       "    }\n",
       "</style>\n",
       "<table border=\"1\" class=\"dataframe\">\n",
       "  <thead>\n",
       "    <tr style=\"text-align: right;\">\n",
       "      <th></th>\n",
       "      <th>text</th>\n",
       "      <th>label</th>\n",
       "    </tr>\n",
       "  </thead>\n",
       "  <tbody>\n",
       "    <tr>\n",
       "      <th>2164</th>\n",
       "      <td>I find it rather useless to comment on this \"m...</td>\n",
       "      <td>0</td>\n",
       "    </tr>\n",
       "    <tr>\n",
       "      <th>3236</th>\n",
       "      <td>An absolutely atrocious adaptation of the wond...</td>\n",
       "      <td>0</td>\n",
       "    </tr>\n",
       "    <tr>\n",
       "      <th>3428</th>\n",
       "      <td>When I first saw this film it was not an impre...</td>\n",
       "      <td>0</td>\n",
       "    </tr>\n",
       "    <tr>\n",
       "      <th>3652</th>\n",
       "      <td>Before I watched this tv movie I did not know ...</td>\n",
       "      <td>1</td>\n",
       "    </tr>\n",
       "    <tr>\n",
       "      <th>3787</th>\n",
       "      <td>What a clunker!&lt;br /&gt;&lt;br /&gt;It MUST have been m...</td>\n",
       "      <td>0</td>\n",
       "    </tr>\n",
       "    <tr>\n",
       "      <th>...</th>\n",
       "      <td>...</td>\n",
       "      <td>...</td>\n",
       "    </tr>\n",
       "    <tr>\n",
       "      <th>39229</th>\n",
       "      <td>I Enjoyed Watching This Well Acted Movie Very ...</td>\n",
       "      <td>1</td>\n",
       "    </tr>\n",
       "    <tr>\n",
       "      <th>39246</th>\n",
       "      <td>You do realize that you've been watching the E...</td>\n",
       "      <td>0</td>\n",
       "    </tr>\n",
       "    <tr>\n",
       "      <th>39508</th>\n",
       "      <td>(Spoilers)&lt;br /&gt;&lt;br /&gt;Oh sure it's based on Mo...</td>\n",
       "      <td>0</td>\n",
       "    </tr>\n",
       "    <tr>\n",
       "      <th>39681</th>\n",
       "      <td>It's been a long time since I last saw a movie...</td>\n",
       "      <td>0</td>\n",
       "    </tr>\n",
       "    <tr>\n",
       "      <th>39746</th>\n",
       "      <td>Goodnight, Mister Tom begins in an impossibly ...</td>\n",
       "      <td>0</td>\n",
       "    </tr>\n",
       "  </tbody>\n",
       "</table>\n",
       "<p>277 rows × 2 columns</p>\n",
       "</div>"
      ],
      "text/plain": [
       "                                                    text  label\n",
       "2164   I find it rather useless to comment on this \"m...      0\n",
       "3236   An absolutely atrocious adaptation of the wond...      0\n",
       "3428   When I first saw this film it was not an impre...      0\n",
       "3652   Before I watched this tv movie I did not know ...      1\n",
       "3787   What a clunker!<br /><br />It MUST have been m...      0\n",
       "...                                                  ...    ...\n",
       "39229  I Enjoyed Watching This Well Acted Movie Very ...      1\n",
       "39246  You do realize that you've been watching the E...      0\n",
       "39508  (Spoilers)<br /><br />Oh sure it's based on Mo...      0\n",
       "39681  It's been a long time since I last saw a movie...      0\n",
       "39746  Goodnight, Mister Tom begins in an impossibly ...      0\n",
       "\n",
       "[277 rows x 2 columns]"
      ]
     },
     "execution_count": 6,
     "metadata": {},
     "output_type": "execute_result"
    }
   ],
   "source": [
    "#these are all the duplicate entries, so we'll remove the duplicates and keep just one\n",
    "df[df.duplicated()]"
   ]
  },
  {
   "cell_type": "code",
   "execution_count": 7,
   "id": "368db043-27a6-418f-881d-d517652ce930",
   "metadata": {},
   "outputs": [
    {
     "data": {
      "text/html": [
       "<div>\n",
       "<style scoped>\n",
       "    .dataframe tbody tr th:only-of-type {\n",
       "        vertical-align: middle;\n",
       "    }\n",
       "\n",
       "    .dataframe tbody tr th {\n",
       "        vertical-align: top;\n",
       "    }\n",
       "\n",
       "    .dataframe thead th {\n",
       "        text-align: right;\n",
       "    }\n",
       "</style>\n",
       "<table border=\"1\" class=\"dataframe\">\n",
       "  <thead>\n",
       "    <tr style=\"text-align: right;\">\n",
       "      <th></th>\n",
       "      <th>index</th>\n",
       "      <th>text</th>\n",
       "      <th>label</th>\n",
       "    </tr>\n",
       "  </thead>\n",
       "  <tbody>\n",
       "    <tr>\n",
       "      <th>0</th>\n",
       "      <td>0</td>\n",
       "      <td>I grew up (b. 1965) watching and loving the Th...</td>\n",
       "      <td>0</td>\n",
       "    </tr>\n",
       "    <tr>\n",
       "      <th>1</th>\n",
       "      <td>1</td>\n",
       "      <td>When I put this movie in my DVD player, and sa...</td>\n",
       "      <td>0</td>\n",
       "    </tr>\n",
       "    <tr>\n",
       "      <th>2</th>\n",
       "      <td>2</td>\n",
       "      <td>Why do people who do not know what a particula...</td>\n",
       "      <td>0</td>\n",
       "    </tr>\n",
       "    <tr>\n",
       "      <th>3</th>\n",
       "      <td>3</td>\n",
       "      <td>Even though I have great interest in Biblical ...</td>\n",
       "      <td>0</td>\n",
       "    </tr>\n",
       "    <tr>\n",
       "      <th>4</th>\n",
       "      <td>4</td>\n",
       "      <td>Im a die hard Dads Army fan and nothing will e...</td>\n",
       "      <td>1</td>\n",
       "    </tr>\n",
       "    <tr>\n",
       "      <th>...</th>\n",
       "      <td>...</td>\n",
       "      <td>...</td>\n",
       "      <td>...</td>\n",
       "    </tr>\n",
       "    <tr>\n",
       "      <th>39718</th>\n",
       "      <td>39995</td>\n",
       "      <td>\"Western Union\" is something of a forgotten cl...</td>\n",
       "      <td>1</td>\n",
       "    </tr>\n",
       "    <tr>\n",
       "      <th>39719</th>\n",
       "      <td>39996</td>\n",
       "      <td>This movie is an incredible piece of work. It ...</td>\n",
       "      <td>1</td>\n",
       "    </tr>\n",
       "    <tr>\n",
       "      <th>39720</th>\n",
       "      <td>39997</td>\n",
       "      <td>My wife and I watched this movie because we pl...</td>\n",
       "      <td>0</td>\n",
       "    </tr>\n",
       "    <tr>\n",
       "      <th>39721</th>\n",
       "      <td>39998</td>\n",
       "      <td>When I first watched Flatliners, I was amazed....</td>\n",
       "      <td>1</td>\n",
       "    </tr>\n",
       "    <tr>\n",
       "      <th>39722</th>\n",
       "      <td>39999</td>\n",
       "      <td>Why would this film be so good, but only gross...</td>\n",
       "      <td>1</td>\n",
       "    </tr>\n",
       "  </tbody>\n",
       "</table>\n",
       "<p>39723 rows × 3 columns</p>\n",
       "</div>"
      ],
      "text/plain": [
       "       index                                               text  label\n",
       "0          0  I grew up (b. 1965) watching and loving the Th...      0\n",
       "1          1  When I put this movie in my DVD player, and sa...      0\n",
       "2          2  Why do people who do not know what a particula...      0\n",
       "3          3  Even though I have great interest in Biblical ...      0\n",
       "4          4  Im a die hard Dads Army fan and nothing will e...      1\n",
       "...      ...                                                ...    ...\n",
       "39718  39995  \"Western Union\" is something of a forgotten cl...      1\n",
       "39719  39996  This movie is an incredible piece of work. It ...      1\n",
       "39720  39997  My wife and I watched this movie because we pl...      0\n",
       "39721  39998  When I first watched Flatliners, I was amazed....      1\n",
       "39722  39999  Why would this film be so good, but only gross...      1\n",
       "\n",
       "[39723 rows x 3 columns]"
      ]
     },
     "execution_count": 7,
     "metadata": {},
     "output_type": "execute_result"
    }
   ],
   "source": [
    "df.drop_duplicates(inplace = True)\n",
    "df.reset_index(inplace = True)\n",
    "df"
   ]
  },
  {
   "cell_type": "code",
   "execution_count": 8,
   "id": "f827ef49-4418-429d-99ed-da6375d72b25",
   "metadata": {},
   "outputs": [],
   "source": [
    "df.drop('index', axis = 1, inplace = True)"
   ]
  },
  {
   "cell_type": "code",
   "execution_count": 9,
   "id": "80fb128b-279e-42bf-9d66-459244446c21",
   "metadata": {},
   "outputs": [
    {
     "name": "stdout",
     "output_type": "stream",
     "text": [
      "<class 'pandas.core.frame.DataFrame'>\n",
      "RangeIndex: 39723 entries, 0 to 39722\n",
      "Data columns (total 2 columns):\n",
      " #   Column  Non-Null Count  Dtype \n",
      "---  ------  --------------  ----- \n",
      " 0   text    39723 non-null  object\n",
      " 1   label   39723 non-null  int64 \n",
      "dtypes: int64(1), object(1)\n",
      "memory usage: 620.8+ KB\n"
     ]
    }
   ],
   "source": [
    "df.info()"
   ]
  },
  {
   "cell_type": "code",
   "execution_count": 10,
   "id": "ec295e67-037d-4567-81a4-c36198abc506",
   "metadata": {},
   "outputs": [
    {
     "data": {
      "text/plain": [
       "label\n",
       "1    19908\n",
       "0    19815\n",
       "Name: count, dtype: int64"
      ]
     },
     "execution_count": 10,
     "metadata": {},
     "output_type": "execute_result"
    }
   ],
   "source": [
    "#since no. of 1s and 0s are almost equal, this is a balanced dataset\n",
    "df['label'].value_counts()"
   ]
  },
  {
   "cell_type": "code",
   "execution_count": 11,
   "id": "be629512-2f26-466b-a388-f8182101d2f3",
   "metadata": {},
   "outputs": [
    {
     "data": {
      "text/html": [
       "<div>\n",
       "<style scoped>\n",
       "    .dataframe tbody tr th:only-of-type {\n",
       "        vertical-align: middle;\n",
       "    }\n",
       "\n",
       "    .dataframe tbody tr th {\n",
       "        vertical-align: top;\n",
       "    }\n",
       "\n",
       "    .dataframe thead th {\n",
       "        text-align: right;\n",
       "    }\n",
       "</style>\n",
       "<table border=\"1\" class=\"dataframe\">\n",
       "  <thead>\n",
       "    <tr style=\"text-align: right;\">\n",
       "      <th></th>\n",
       "      <th>text</th>\n",
       "      <th>label</th>\n",
       "      <th>Review length</th>\n",
       "    </tr>\n",
       "  </thead>\n",
       "  <tbody>\n",
       "    <tr>\n",
       "      <th>0</th>\n",
       "      <td>I grew up (b. 1965) watching and loving the Th...</td>\n",
       "      <td>0</td>\n",
       "      <td>874</td>\n",
       "    </tr>\n",
       "    <tr>\n",
       "      <th>1</th>\n",
       "      <td>When I put this movie in my DVD player, and sa...</td>\n",
       "      <td>0</td>\n",
       "      <td>1811</td>\n",
       "    </tr>\n",
       "    <tr>\n",
       "      <th>2</th>\n",
       "      <td>Why do people who do not know what a particula...</td>\n",
       "      <td>0</td>\n",
       "      <td>983</td>\n",
       "    </tr>\n",
       "    <tr>\n",
       "      <th>3</th>\n",
       "      <td>Even though I have great interest in Biblical ...</td>\n",
       "      <td>0</td>\n",
       "      <td>351</td>\n",
       "    </tr>\n",
       "    <tr>\n",
       "      <th>4</th>\n",
       "      <td>Im a die hard Dads Army fan and nothing will e...</td>\n",
       "      <td>1</td>\n",
       "      <td>983</td>\n",
       "    </tr>\n",
       "    <tr>\n",
       "      <th>...</th>\n",
       "      <td>...</td>\n",
       "      <td>...</td>\n",
       "      <td>...</td>\n",
       "    </tr>\n",
       "    <tr>\n",
       "      <th>39718</th>\n",
       "      <td>\"Western Union\" is something of a forgotten cl...</td>\n",
       "      <td>1</td>\n",
       "      <td>3111</td>\n",
       "    </tr>\n",
       "    <tr>\n",
       "      <th>39719</th>\n",
       "      <td>This movie is an incredible piece of work. It ...</td>\n",
       "      <td>1</td>\n",
       "      <td>291</td>\n",
       "    </tr>\n",
       "    <tr>\n",
       "      <th>39720</th>\n",
       "      <td>My wife and I watched this movie because we pl...</td>\n",
       "      <td>0</td>\n",
       "      <td>1092</td>\n",
       "    </tr>\n",
       "    <tr>\n",
       "      <th>39721</th>\n",
       "      <td>When I first watched Flatliners, I was amazed....</td>\n",
       "      <td>1</td>\n",
       "      <td>1045</td>\n",
       "    </tr>\n",
       "    <tr>\n",
       "      <th>39722</th>\n",
       "      <td>Why would this film be so good, but only gross...</td>\n",
       "      <td>1</td>\n",
       "      <td>727</td>\n",
       "    </tr>\n",
       "  </tbody>\n",
       "</table>\n",
       "<p>39723 rows × 3 columns</p>\n",
       "</div>"
      ],
      "text/plain": [
       "                                                    text  label  Review length\n",
       "0      I grew up (b. 1965) watching and loving the Th...      0            874\n",
       "1      When I put this movie in my DVD player, and sa...      0           1811\n",
       "2      Why do people who do not know what a particula...      0            983\n",
       "3      Even though I have great interest in Biblical ...      0            351\n",
       "4      Im a die hard Dads Army fan and nothing will e...      1            983\n",
       "...                                                  ...    ...            ...\n",
       "39718  \"Western Union\" is something of a forgotten cl...      1           3111\n",
       "39719  This movie is an incredible piece of work. It ...      1            291\n",
       "39720  My wife and I watched this movie because we pl...      0           1092\n",
       "39721  When I first watched Flatliners, I was amazed....      1           1045\n",
       "39722  Why would this film be so good, but only gross...      1            727\n",
       "\n",
       "[39723 rows x 3 columns]"
      ]
     },
     "execution_count": 11,
     "metadata": {},
     "output_type": "execute_result"
    }
   ],
   "source": [
    "df['Review length'] = df['text'].apply(len)\n",
    "df"
   ]
  },
  {
   "cell_type": "code",
   "execution_count": 12,
   "id": "616c4083-619a-4355-9462-1990dd7e4677",
   "metadata": {},
   "outputs": [
    {
     "data": {
      "image/png": "[encoded data removed]",
      "text/plain": [
       "<Figure size 640x480 with 1 Axes>"
      ]
     },
     "metadata": {},
     "output_type": "display_data"
    }
   ],
   "source": [
    "sns.histplot(df, x = 'Review length', hue = 'label', bins = 40, kde = True)\n",
    "plt.show()"
   ]
  },
  {
   "cell_type": "code",
   "execution_count": 13,
   "id": "8b384ff0-7a5e-4e79-9ce3-4c10798459fa",
   "metadata": {},
   "outputs": [
    {
     "data": {
      "image/png": "[encoded data removed]",
      "text/plain": [
       "<Figure size 640x480 with 1 Axes>"
      ]
     },
     "metadata": {},
     "output_type": "display_data"
    }
   ],
   "source": [
    "sns.boxplot(x='label', y='Review length', data=df)\n",
    "plt.show()"
   ]
  },
  {
   "cell_type": "markdown",
   "id": "5ceeff79-908f-4c97-929d-f3bdb26f5966",
   "metadata": {},
   "source": [
    "The distribution of positive and negative reviews wrt `Review length` is almost the same. Thus it is not a good feature to classify the sentiment, so we'll drop it."
   ]
  },
  {
   "cell_type": "code",
   "execution_count": 14,
   "id": "39ce0a68-34ef-4d51-86b1-fc598a86e875",
   "metadata": {},
   "outputs": [],
   "source": [
    "df.drop('Review length', axis = 1, inplace= True)"
   ]
  },
  {
   "cell_type": "code",
   "execution_count": 15,
   "id": "f41bd196-966d-42b8-b1bc-c34d1dbf7c30",
   "metadata": {},
   "outputs": [
    {
     "data": {
      "text/html": [
       "<div>\n",
       "<style scoped>\n",
       "    .dataframe tbody tr th:only-of-type {\n",
       "        vertical-align: middle;\n",
       "    }\n",
       "\n",
       "    .dataframe tbody tr th {\n",
       "        vertical-align: top;\n",
       "    }\n",
       "\n",
       "    .dataframe thead th {\n",
       "        text-align: right;\n",
       "    }\n",
       "</style>\n",
       "<table border=\"1\" class=\"dataframe\">\n",
       "  <thead>\n",
       "    <tr style=\"text-align: right;\">\n",
       "      <th></th>\n",
       "      <th>text</th>\n",
       "      <th>label</th>\n",
       "    </tr>\n",
       "  </thead>\n",
       "  <tbody>\n",
       "    <tr>\n",
       "      <th>0</th>\n",
       "      <td>I grew up (b. 1965) watching and loving the Th...</td>\n",
       "      <td>0</td>\n",
       "    </tr>\n",
       "    <tr>\n",
       "      <th>1</th>\n",
       "      <td>When I put this movie in my DVD player, and sa...</td>\n",
       "      <td>0</td>\n",
       "    </tr>\n",
       "    <tr>\n",
       "      <th>2</th>\n",
       "      <td>Why do people who do not know what a particula...</td>\n",
       "      <td>0</td>\n",
       "    </tr>\n",
       "    <tr>\n",
       "      <th>3</th>\n",
       "      <td>Even though I have great interest in Biblical ...</td>\n",
       "      <td>0</td>\n",
       "    </tr>\n",
       "    <tr>\n",
       "      <th>4</th>\n",
       "      <td>Im a die hard Dads Army fan and nothing will e...</td>\n",
       "      <td>1</td>\n",
       "    </tr>\n",
       "  </tbody>\n",
       "</table>\n",
       "</div>"
      ],
      "text/plain": [
       "                                                text  label\n",
       "0  I grew up (b. 1965) watching and loving the Th...      0\n",
       "1  When I put this movie in my DVD player, and sa...      0\n",
       "2  Why do people who do not know what a particula...      0\n",
       "3  Even though I have great interest in Biblical ...      0\n",
       "4  Im a die hard Dads Army fan and nothing will e...      1"
      ]
     },
     "execution_count": 15,
     "metadata": {},
     "output_type": "execute_result"
    }
   ],
   "source": [
    "df.head()"
   ]
  },
  {
   "cell_type": "markdown",
   "id": "bb60cafb-16ec-484c-a4b7-3215bf9cd885",
   "metadata": {},
   "source": [
    "## Data preprocessing"
   ]
  },
  {
   "cell_type": "code",
   "execution_count": 16,
   "id": "991aceb1-cd9e-46e1-8262-cee2bcb3cbed",
   "metadata": {},
   "outputs": [],
   "source": [
    "from nltk.tokenize import word_tokenize \n",
    "from nltk.stem import WordNetLemmatizer\n",
    "from nltk import pos_tag\n",
    "from nltk.corpus import wordnet, stopwords\n",
    "import re"
   ]
  },
  {
   "cell_type": "code",
   "execution_count": 17,
   "id": "2419154d-af22-4967-853a-804455df481b",
   "metadata": {},
   "outputs": [],
   "source": [
    "lemma = WordNetLemmatizer()\n",
    "def pos_tags(treebank_tag):\n",
    "    if treebank_tag.startswith('J'):\n",
    "        return wordnet.ADJ\n",
    "    elif treebank_tag.startswith('V'):\n",
    "        return wordnet.VERB\n",
    "    elif treebank_tag.startswith('N'):\n",
    "        return wordnet.NOUN\n",
    "    elif treebank_tag.startswith('R'):\n",
    "        return wordnet.ADV\n",
    "    else:\n",
    "        return wordnet.NOUN\n",
    "\n",
    "def remove_special_char(string):\n",
    "    string = re.sub(r'[^A-Za-z\\s]', '', string)\n",
    "    return string\n",
    "\n",
    "stop_words = set(stopwords.words('english'))\n",
    "def remove_sw (string):\n",
    "    string = [word for word in string if word not in stop_words]\n",
    "    return string"
   ]
  },
  {
   "cell_type": "code",
   "execution_count": 18,
   "id": "7fec57b5-a457-476c-87d2-dfe4110684a0",
   "metadata": {},
   "outputs": [],
   "source": [
    "def preprocess(string):\n",
    "    string = string.lower()\n",
    "    string = word_tokenize(string)\n",
    "    tags = pos_tag(string)\n",
    "    string = [lemma.lemmatize(word, pos_tags(pos)) for word, pos in tags]\n",
    "    string = [remove_special_char(token) for token in string if remove_special_char(token)]\n",
    "    string = remove_sw(string)\n",
    "    return string"
   ]
  },
  {
   "cell_type": "code",
   "execution_count": 19,
   "id": "ef4dbc0d-682c-436f-9605-2fc356eea26c",
   "metadata": {},
   "outputs": [
    {
     "name": "stdout",
     "output_type": "stream",
     "text": [
      "Time taken: 350.00 seconds\n"
     ]
    }
   ],
   "source": [
    "import time\n",
    "start_time = time.time()\n",
    "df['tokenized text'] = df['text'].apply(preprocess)\n",
    "end_time = time.time()\n",
    "print(f\"Time taken: {end_time - start_time:.2f} seconds\")"
   ]
  },
  {
   "cell_type": "code",
   "execution_count": 20,
   "id": "23af8634-de98-4f8a-9b98-13d8a4966599",
   "metadata": {},
   "outputs": [
    {
     "data": {
      "text/html": [
       "<div>\n",
       "<style scoped>\n",
       "    .dataframe tbody tr th:only-of-type {\n",
       "        vertical-align: middle;\n",
       "    }\n",
       "\n",
       "    .dataframe tbody tr th {\n",
       "        vertical-align: top;\n",
       "    }\n",
       "\n",
       "    .dataframe thead th {\n",
       "        text-align: right;\n",
       "    }\n",
       "</style>\n",
       "<table border=\"1\" class=\"dataframe\">\n",
       "  <thead>\n",
       "    <tr style=\"text-align: right;\">\n",
       "      <th></th>\n",
       "      <th>text</th>\n",
       "      <th>label</th>\n",
       "      <th>tokenized text</th>\n",
       "    </tr>\n",
       "  </thead>\n",
       "  <tbody>\n",
       "    <tr>\n",
       "      <th>0</th>\n",
       "      <td>I grew up (b. 1965) watching and loving the Th...</td>\n",
       "      <td>0</td>\n",
       "      <td>[grow, b, watching, love, thunderbird, mate, s...</td>\n",
       "    </tr>\n",
       "    <tr>\n",
       "      <th>1</th>\n",
       "      <td>When I put this movie in my DVD player, and sa...</td>\n",
       "      <td>0</td>\n",
       "      <td>[put, movie, dvd, player, sit, coke, chip, exp...</td>\n",
       "    </tr>\n",
       "    <tr>\n",
       "      <th>2</th>\n",
       "      <td>Why do people who do not know what a particula...</td>\n",
       "      <td>0</td>\n",
       "      <td>[people, know, particular, time, past, like, f...</td>\n",
       "    </tr>\n",
       "    <tr>\n",
       "      <th>3</th>\n",
       "      <td>Even though I have great interest in Biblical ...</td>\n",
       "      <td>0</td>\n",
       "      <td>[even, though, great, interest, biblical, movi...</td>\n",
       "    </tr>\n",
       "    <tr>\n",
       "      <th>4</th>\n",
       "      <td>Im a die hard Dads Army fan and nothing will e...</td>\n",
       "      <td>1</td>\n",
       "      <td>[im, die, hard, dad, army, fan, nothing, ever,...</td>\n",
       "    </tr>\n",
       "    <tr>\n",
       "      <th>...</th>\n",
       "      <td>...</td>\n",
       "      <td>...</td>\n",
       "      <td>...</td>\n",
       "    </tr>\n",
       "    <tr>\n",
       "      <th>39718</th>\n",
       "      <td>\"Western Union\" is something of a forgotten cl...</td>\n",
       "      <td>1</td>\n",
       "      <td>[western, union, something, forgotten, classic...</td>\n",
       "    </tr>\n",
       "    <tr>\n",
       "      <th>39719</th>\n",
       "      <td>This movie is an incredible piece of work. It ...</td>\n",
       "      <td>1</td>\n",
       "      <td>[movie, incredible, piece, work, explore, ever...</td>\n",
       "    </tr>\n",
       "    <tr>\n",
       "      <th>39720</th>\n",
       "      <td>My wife and I watched this movie because we pl...</td>\n",
       "      <td>0</td>\n",
       "      <td>[wife, watch, movie, plan, visit, sicily, stro...</td>\n",
       "    </tr>\n",
       "    <tr>\n",
       "      <th>39721</th>\n",
       "      <td>When I first watched Flatliners, I was amazed....</td>\n",
       "      <td>1</td>\n",
       "      <td>[first, watch, flatliners, amaze, necessary, f...</td>\n",
       "    </tr>\n",
       "    <tr>\n",
       "      <th>39722</th>\n",
       "      <td>Why would this film be so good, but only gross...</td>\n",
       "      <td>1</td>\n",
       "      <td>[would, film, good, gross, estimated, award, n...</td>\n",
       "    </tr>\n",
       "  </tbody>\n",
       "</table>\n",
       "<p>39723 rows × 3 columns</p>\n",
       "</div>"
      ],
      "text/plain": [
       "                                                    text  label  \\\n",
       "0      I grew up (b. 1965) watching and loving the Th...      0   \n",
       "1      When I put this movie in my DVD player, and sa...      0   \n",
       "2      Why do people who do not know what a particula...      0   \n",
       "3      Even though I have great interest in Biblical ...      0   \n",
       "4      Im a die hard Dads Army fan and nothing will e...      1   \n",
       "...                                                  ...    ...   \n",
       "39718  \"Western Union\" is something of a forgotten cl...      1   \n",
       "39719  This movie is an incredible piece of work. It ...      1   \n",
       "39720  My wife and I watched this movie because we pl...      0   \n",
       "39721  When I first watched Flatliners, I was amazed....      1   \n",
       "39722  Why would this film be so good, but only gross...      1   \n",
       "\n",
       "                                          tokenized text  \n",
       "0      [grow, b, watching, love, thunderbird, mate, s...  \n",
       "1      [put, movie, dvd, player, sit, coke, chip, exp...  \n",
       "2      [people, know, particular, time, past, like, f...  \n",
       "3      [even, though, great, interest, biblical, movi...  \n",
       "4      [im, die, hard, dad, army, fan, nothing, ever,...  \n",
       "...                                                  ...  \n",
       "39718  [western, union, something, forgotten, classic...  \n",
       "39719  [movie, incredible, piece, work, explore, ever...  \n",
       "39720  [wife, watch, movie, plan, visit, sicily, stro...  \n",
       "39721  [first, watch, flatliners, amaze, necessary, f...  \n",
       "39722  [would, film, good, gross, estimated, award, n...  \n",
       "\n",
       "[39723 rows x 3 columns]"
      ]
     },
     "execution_count": 20,
     "metadata": {},
     "output_type": "execute_result"
    }
   ],
   "source": [
    "df"
   ]
  },
  {
   "cell_type": "code",
   "execution_count": 21,
   "id": "120ac4f5-042c-4181-940f-07f35328d4ce",
   "metadata": {},
   "outputs": [],
   "source": [
    "from sklearn.model_selection import train_test_split\n",
    "\n",
    "x_train, x_test, y_train, y_test = train_test_split(df['tokenized text'], df['label'], test_size=0.2, random_state=42)"
   ]
  },
  {
   "cell_type": "code",
   "execution_count": 22,
   "id": "0692e202-8f7d-482b-9c5b-5716b9713a25",
   "metadata": {},
   "outputs": [],
   "source": [
    "from sklearn.preprocessing import MultiLabelBinarizer\n",
    "from sklearn.feature_extraction.text import CountVectorizer\n",
    "from sklearn.feature_extraction.text import TfidfVectorizer\n",
    "from gensim.models import Word2Vec"
   ]
  },
  {
   "cell_type": "code",
   "execution_count": 23,
   "id": "d6c56be4-7bb9-41e8-94e1-04276b24544b",
   "metadata": {},
   "outputs": [],
   "source": [
    "from sklearn.linear_model import LogisticRegression\n",
    "from sklearn.naive_bayes import BernoulliNB\n",
    "from sklearn.svm import LinearSVC\n",
    "from sklearn.ensemble import RandomForestClassifier\n",
    "from tensorflow import keras\n",
    "from tensorflow.keras import layers"
   ]
  },
  {
   "cell_type": "code",
   "execution_count": 24,
   "id": "b539e3c8-74fa-4de7-b564-77be96a6db4a",
   "metadata": {},
   "outputs": [],
   "source": [
    "from sklearn.metrics import accuracy_score, roc_auc_score, f1_score, confusion_matrix"
   ]
  },
  {
   "cell_type": "markdown",
   "id": "4cee8026-5fff-4d73-9561-c1810e4c5770",
   "metadata": {},
   "source": [
    "## Vectorization, model selection and evaluation"
   ]
  },
  {
   "cell_type": "markdown",
   "id": "ec64d327-af55-412b-95f7-84330c39cd7a",
   "metadata": {},
   "source": [
    "### Using one hot encoding"
   ]
  },
  {
   "cell_type": "code",
   "execution_count": 25,
   "id": "f4764f26-9a38-4d76-94cb-98305e1f025d",
   "metadata": {},
   "outputs": [],
   "source": [
    "from collections import Counter\n",
    "from tensorflow.keras.preprocessing.text import Tokenizer\n",
    "from scipy.sparse import csr_matrix\n",
    "\n",
    "def one_hot_encoded (df, num_words = 4000):\n",
    "    token_list = [token for tokens in df for token in tokens]\n",
    "    freq = Counter(token_list)\n",
    "    most_common_tokens = set(word for word, _ in freq.most_common(num_words))\n",
    "    filtered_tokens = df.apply(lambda tokens: [w for w in tokens if w in most_common_tokens])\n",
    "    texts_joined = filtered_tokens.apply(lambda tokens: ' '.join(tokens))\n",
    "    tokenizer = Tokenizer(num_words=num_words, oov_token=\"<OOV>\")\n",
    "    tokenizer.fit_on_texts(texts_joined)\n",
    "    sequences = tokenizer.texts_to_sequences(texts_joined)\n",
    "\n",
    "    rows, cols, data = [], [], []\n",
    "    for i, seq in enumerate(sequences):\n",
    "        for idx in seq:\n",
    "            rows.append(i)\n",
    "            cols.append(idx)\n",
    "            data.append(1)\n",
    "    X_sparse = csr_matrix((data, (rows, cols)), shape=(len(sequences), num_words), dtype=np.uint8)\n",
    "    \n",
    "    return X_sparse, tokenizer"
   ]
  },
  {
   "cell_type": "code",
   "execution_count": 26,
   "id": "b14aef5b-ac6c-487e-8b03-afc905638e16",
   "metadata": {},
   "outputs": [],
   "source": [
    "x_train_ohe, tokenizer = one_hot_encoded(x_train)\n",
    "texts_test = x_test.apply(lambda tokens: ' '.join(tokens))\n",
    "sequences_test = tokenizer.texts_to_sequences(texts_test)\n",
    "\n",
    "rows, cols, data = [], [], []\n",
    "for i, seq in enumerate(sequences_test):\n",
    "    for idx in seq:\n",
    "        rows.append(i)\n",
    "        cols.append(idx)\n",
    "        data.append(1)\n",
    "x_test_ohe = csr_matrix((data, (rows, cols)), shape=(len(sequences_test), 4000), dtype=np.uint8)"
   ]
  },
  {
   "cell_type": "code",
   "execution_count": 27,
   "id": "2c730ba9-81a0-4381-bcf8-96ad76370cba",
   "metadata": {},
   "outputs": [],
   "source": [
    "def perfomance(y_test, y_pred):\n",
    "    accuracy = accuracy_score(y_test, y_pred)\n",
    "    cm = confusion_matrix(y_test, y_pred)\n",
    "    rocauc = roc_auc_score(y_test, y_pred)\n",
    "    f1 = f1_score(y_test, y_pred)\n",
    "    print(f\"Model Performance Metrics:\\n\")\n",
    "    print(f\"Accuracy       : {accuracy:.4f}\")\n",
    "    print(f\"F1 Score       : {f1:.4f}\")\n",
    "    print(f\"ROC AUC Score  : {rocauc:.4f}\")\n",
    "    print(\"Confusion Matrix:\",)\n",
    "    print(cm)"
   ]
  },
  {
   "cell_type": "markdown",
   "id": "af3e673d-2929-40f7-b33d-ba12ea89881b",
   "metadata": {},
   "source": [
    "#### Logistic Regression"
   ]
  },
  {
   "cell_type": "code",
   "execution_count": 32,
   "id": "9937403f-9184-43b1-9035-0d86c790aa55",
   "metadata": {},
   "outputs": [],
   "source": [
    "lr = LogisticRegression(max_iter = 10000)\n",
    "lr.fit(x_train_ohe, y_train)\n",
    "y_pred_lr = lr.predict(x_test_ohe)"
   ]
  },
  {
   "cell_type": "code",
   "execution_count": 33,
   "id": "2f2d0e52-f9d4-45ba-a8eb-7ae94e1d4275",
   "metadata": {},
   "outputs": [
    {
     "name": "stdout",
     "output_type": "stream",
     "text": [
      "Model Performance Metrics:\n",
      "\n",
      "Accuracy       : 0.6014\n",
      "F1 Score       : 0.3406\n",
      "ROC AUC Score  : 0.5996\n",
      "Confusion Matrix:\n",
      "[[3960   31]\n",
      " [3136  818]]\n"
     ]
    }
   ],
   "source": [
    "perfomance(y_test, y_pred_lr)"
   ]
  },
  {
   "cell_type": "markdown",
   "id": "686bdf11-b97e-4a95-b534-492cac66904d",
   "metadata": {},
   "source": [
    "#### Bernoulli Naive Bayes Classifier"
   ]
  },
  {
   "cell_type": "code",
   "execution_count": 34,
   "id": "0f6d6205-bd52-4acd-8001-1afd349e5e2a",
   "metadata": {},
   "outputs": [],
   "source": [
    "bnb = BernoulliNB()\n",
    "bnb.fit(x_train_ohe, y_train)\n",
    "y_pred_nb  = bnb.predict(x_test_ohe)"
   ]
  },
  {
   "cell_type": "code",
   "execution_count": 35,
   "id": "104a6682-a1e5-4872-a74f-ead64bc67cb8",
   "metadata": {},
   "outputs": [
    {
     "name": "stdout",
     "output_type": "stream",
     "text": [
      "Model Performance Metrics:\n",
      "\n",
      "Accuracy       : 0.8447\n",
      "F1 Score       : 0.8421\n",
      "ROC AUC Score  : 0.8446\n",
      "Confusion Matrix:\n",
      "[[3420  571]\n",
      " [ 663 3291]]\n"
     ]
    }
   ],
   "source": [
    "perfomance(y_test, y_pred_nb)"
   ]
  },
  {
   "cell_type": "markdown",
   "id": "e4138142-0095-47f5-8348-f1de2a13162d",
   "metadata": {},
   "source": [
    "#### SVM (Support Vector Machine)"
   ]
  },
  {
   "cell_type": "code",
   "execution_count": 36,
   "id": "e503393b-230e-43d1-a9fb-382d60c45d4c",
   "metadata": {},
   "outputs": [],
   "source": [
    "svm = LinearSVC()\n",
    "svm.fit(x_train_ohe, y_train)\n",
    "y_pred_svm  = svm.predict(x_test_ohe)"
   ]
  },
  {
   "cell_type": "code",
   "execution_count": 37,
   "id": "4387dbd9-dbfd-44bc-906a-b88d2e44f43b",
   "metadata": {},
   "outputs": [
    {
     "name": "stdout",
     "output_type": "stream",
     "text": [
      "Model Performance Metrics:\n",
      "\n",
      "Accuracy       : 0.5775\n",
      "F1 Score       : 0.2685\n",
      "ROC AUC Score  : 0.5755\n",
      "Confusion Matrix:\n",
      "[[3972   19]\n",
      " [3338  616]]\n"
     ]
    }
   ],
   "source": [
    "perfomance(y_test, y_pred_svm)"
   ]
  },
  {
   "cell_type": "markdown",
   "id": "fa87ad4e-4b1b-4c45-b5bc-188b3f86f5c8",
   "metadata": {},
   "source": [
    "#### Random Forests"
   ]
  },
  {
   "cell_type": "code",
   "execution_count": 38,
   "id": "34621678-c724-4b67-901e-c61d5089c5be",
   "metadata": {},
   "outputs": [],
   "source": [
    "rf = RandomForestClassifier()\n",
    "rf.fit(x_train_ohe, y_train)\n",
    "y_pred_rf  = rf.predict(x_test_ohe)"
   ]
  },
  {
   "cell_type": "code",
   "execution_count": 39,
   "id": "e3e45ac0-3876-4904-bb6d-6a4ebc6e07bb",
   "metadata": {},
   "outputs": [
    {
     "name": "stdout",
     "output_type": "stream",
     "text": [
      "Model Performance Metrics:\n",
      "\n",
      "Accuracy       : 0.8376\n",
      "F1 Score       : 0.8352\n",
      "ROC AUC Score  : 0.8376\n",
      "Confusion Matrix:\n",
      "[[3386  605]\n",
      " [ 685 3269]]\n"
     ]
    }
   ],
   "source": [
    "perfomance(y_test, y_pred_rf)"
   ]
  },
  {
   "cell_type": "markdown",
   "id": "ad426261-5037-4ad0-b913-83f1c1239f5b",
   "metadata": {},
   "source": [
    "#### A simple Neural network with a few dense layers"
   ]
  },
  {
   "cell_type": "code",
   "execution_count": 40,
   "id": "0a3f6b8c-5a4c-42ff-9717-ec22d426cb9d",
   "metadata": {},
   "outputs": [],
   "source": [
    "x_train_dense = x_train_ohe.toarray()\n",
    "x_test_dense = x_test_ohe.toarray()"
   ]
  },
  {
   "cell_type": "code",
   "execution_count": 41,
   "id": "6d600697-7e83-4ad4-9418-cc55e50e5181",
   "metadata": {},
   "outputs": [
    {
     "data": {
      "text/html": [
       "<pre style=\"white-space:pre;overflow-x:auto;line-height:normal;font-family:Menlo,'DejaVu Sans Mono',consolas,'Courier New',monospace\"><span style=\"font-weight: bold\">Model: \"sequential\"</span>\n",
       "</pre>\n"
      ],
      "text/plain": [
       "\u001b[1mModel: \"sequential\"\u001b[0m\n"
      ]
     },
     "metadata": {},
     "output_type": "display_data"
    },
    {
     "data": {
      "text/html": [
       "<pre style=\"white-space:pre;overflow-x:auto;line-height:normal;font-family:Menlo,'DejaVu Sans Mono',consolas,'Courier New',monospace\">┏━━━━━━━━━━━━━━━━━━━━━━━━━━━━━━━━━┳━━━━━━━━━━━━━━━━━━━━━━━━┳━━━━━━━━━━━━━━━┓\n",
       "┃<span style=\"font-weight: bold\"> Layer (type)                    </span>┃<span style=\"font-weight: bold\"> Output Shape           </span>┃<span style=\"font-weight: bold\">       Param # </span>┃\n",
       "┡━━━━━━━━━━━━━━━━━━━━━━━━━━━━━━━━━╇━━━━━━━━━━━━━━━━━━━━━━━━╇━━━━━━━━━━━━━━━┩\n",
       "│ dense (<span style=\"color: #0087ff; text-decoration-color: #0087ff\">Dense</span>)                   │ (<span style=\"color: #00d7ff; text-decoration-color: #00d7ff\">None</span>, <span style=\"color: #00af00; text-decoration-color: #00af00\">128</span>)            │       <span style=\"color: #00af00; text-decoration-color: #00af00\">512,128</span> │\n",
       "├─────────────────────────────────┼────────────────────────┼───────────────┤\n",
       "│ dropout (<span style=\"color: #0087ff; text-decoration-color: #0087ff\">Dropout</span>)               │ (<span style=\"color: #00d7ff; text-decoration-color: #00d7ff\">None</span>, <span style=\"color: #00af00; text-decoration-color: #00af00\">128</span>)            │             <span style=\"color: #00af00; text-decoration-color: #00af00\">0</span> │\n",
       "├─────────────────────────────────┼────────────────────────┼───────────────┤\n",
       "│ dense_1 (<span style=\"color: #0087ff; text-decoration-color: #0087ff\">Dense</span>)                 │ (<span style=\"color: #00d7ff; text-decoration-color: #00d7ff\">None</span>, <span style=\"color: #00af00; text-decoration-color: #00af00\">64</span>)             │         <span style=\"color: #00af00; text-decoration-color: #00af00\">8,256</span> │\n",
       "├─────────────────────────────────┼────────────────────────┼───────────────┤\n",
       "│ dropout_1 (<span style=\"color: #0087ff; text-decoration-color: #0087ff\">Dropout</span>)             │ (<span style=\"color: #00d7ff; text-decoration-color: #00d7ff\">None</span>, <span style=\"color: #00af00; text-decoration-color: #00af00\">64</span>)             │             <span style=\"color: #00af00; text-decoration-color: #00af00\">0</span> │\n",
       "├─────────────────────────────────┼────────────────────────┼───────────────┤\n",
       "│ dense_2 (<span style=\"color: #0087ff; text-decoration-color: #0087ff\">Dense</span>)                 │ (<span style=\"color: #00d7ff; text-decoration-color: #00d7ff\">None</span>, <span style=\"color: #00af00; text-decoration-color: #00af00\">1</span>)              │            <span style=\"color: #00af00; text-decoration-color: #00af00\">65</span> │\n",
       "└─────────────────────────────────┴────────────────────────┴───────────────┘\n",
       "</pre>\n"
      ],
      "text/plain": [
       "┏━━━━━━━━━━━━━━━━━━━━━━━━━━━━━━━━━┳━━━━━━━━━━━━━━━━━━━━━━━━┳━━━━━━━━━━━━━━━┓\n",
       "┃\u001b[1m \u001b[0m\u001b[1mLayer (type)                   \u001b[0m\u001b[1m \u001b[0m┃\u001b[1m \u001b[0m\u001b[1mOutput Shape          \u001b[0m\u001b[1m \u001b[0m┃\u001b[1m \u001b[0m\u001b[1m      Param #\u001b[0m\u001b[1m \u001b[0m┃\n",
       "┡━━━━━━━━━━━━━━━━━━━━━━━━━━━━━━━━━╇━━━━━━━━━━━━━━━━━━━━━━━━╇━━━━━━━━━━━━━━━┩\n",
       "│ dense (\u001b[38;5;33mDense\u001b[0m)                   │ (\u001b[38;5;45mNone\u001b[0m, \u001b[38;5;34m128\u001b[0m)            │       \u001b[38;5;34m512,128\u001b[0m │\n",
       "├─────────────────────────────────┼────────────────────────┼───────────────┤\n",
       "│ dropout (\u001b[38;5;33mDropout\u001b[0m)               │ (\u001b[38;5;45mNone\u001b[0m, \u001b[38;5;34m128\u001b[0m)            │             \u001b[38;5;34m0\u001b[0m │\n",
       "├─────────────────────────────────┼────────────────────────┼───────────────┤\n",
       "│ dense_1 (\u001b[38;5;33mDense\u001b[0m)                 │ (\u001b[38;5;45mNone\u001b[0m, \u001b[38;5;34m64\u001b[0m)             │         \u001b[38;5;34m8,256\u001b[0m │\n",
       "├─────────────────────────────────┼────────────────────────┼───────────────┤\n",
       "│ dropout_1 (\u001b[38;5;33mDropout\u001b[0m)             │ (\u001b[38;5;45mNone\u001b[0m, \u001b[38;5;34m64\u001b[0m)             │             \u001b[38;5;34m0\u001b[0m │\n",
       "├─────────────────────────────────┼────────────────────────┼───────────────┤\n",
       "│ dense_2 (\u001b[38;5;33mDense\u001b[0m)                 │ (\u001b[38;5;45mNone\u001b[0m, \u001b[38;5;34m1\u001b[0m)              │            \u001b[38;5;34m65\u001b[0m │\n",
       "└─────────────────────────────────┴────────────────────────┴───────────────┘\n"
      ]
     },
     "metadata": {},
     "output_type": "display_data"
    },
    {
     "data": {
      "text/html": [
       "<pre style=\"white-space:pre;overflow-x:auto;line-height:normal;font-family:Menlo,'DejaVu Sans Mono',consolas,'Courier New',monospace\"><span style=\"font-weight: bold\"> Total params: </span><span style=\"color: #00af00; text-decoration-color: #00af00\">520,449</span> (1.99 MB)\n",
       "</pre>\n"
      ],
      "text/plain": [
       "\u001b[1m Total params: \u001b[0m\u001b[38;5;34m520,449\u001b[0m (1.99 MB)\n"
      ]
     },
     "metadata": {},
     "output_type": "display_data"
    },
    {
     "data": {
      "text/html": [
       "<pre style=\"white-space:pre;overflow-x:auto;line-height:normal;font-family:Menlo,'DejaVu Sans Mono',consolas,'Courier New',monospace\"><span style=\"font-weight: bold\"> Trainable params: </span><span style=\"color: #00af00; text-decoration-color: #00af00\">520,449</span> (1.99 MB)\n",
       "</pre>\n"
      ],
      "text/plain": [
       "\u001b[1m Trainable params: \u001b[0m\u001b[38;5;34m520,449\u001b[0m (1.99 MB)\n"
      ]
     },
     "metadata": {},
     "output_type": "display_data"
    },
    {
     "data": {
      "text/html": [
       "<pre style=\"white-space:pre;overflow-x:auto;line-height:normal;font-family:Menlo,'DejaVu Sans Mono',consolas,'Courier New',monospace\"><span style=\"font-weight: bold\"> Non-trainable params: </span><span style=\"color: #00af00; text-decoration-color: #00af00\">0</span> (0.00 B)\n",
       "</pre>\n"
      ],
      "text/plain": [
       "\u001b[1m Non-trainable params: \u001b[0m\u001b[38;5;34m0\u001b[0m (0.00 B)\n"
      ]
     },
     "metadata": {},
     "output_type": "display_data"
    }
   ],
   "source": [
    "model = keras.Sequential([\n",
    "    layers.Input(shape=(4000,)),\n",
    "    layers.Dense(128, activation='relu'),\n",
    "    layers.Dropout(0.4),\n",
    "    layers.Dense(64, activation='relu'),\n",
    "    layers.Dropout(0.4),\n",
    "    layers.Dense(1, activation='sigmoid')\n",
    "])\n",
    "\n",
    "model.compile(optimizer='adam', loss='binary_crossentropy', metrics=['accuracy'])\n",
    "model.summary()"
   ]
  },
  {
   "cell_type": "code",
   "execution_count": 44,
   "id": "30e4352c-e545-4fc0-8b81-d14c3bff45fb",
   "metadata": {},
   "outputs": [
    {
     "name": "stdout",
     "output_type": "stream",
     "text": [
      "Epoch 1/20\n",
      "\u001b[1m128/128\u001b[0m \u001b[32m━━━━━━━━━━━━━━━━━━━━\u001b[0m\u001b[37m\u001b[0m \u001b[1m1s\u001b[0m 5ms/step - accuracy: 0.9949 - loss: 0.0148 - val_accuracy: 0.8663 - val_loss: 0.7950\n",
      "Epoch 2/20\n",
      "\u001b[1m128/128\u001b[0m \u001b[32m━━━━━━━━━━━━━━━━━━━━\u001b[0m\u001b[37m\u001b[0m \u001b[1m1s\u001b[0m 5ms/step - accuracy: 0.9966 - loss: 0.0143 - val_accuracy: 0.8658 - val_loss: 0.7946\n",
      "Epoch 3/20\n",
      "\u001b[1m128/128\u001b[0m \u001b[32m━━━━━━━━━━━━━━━━━━━━\u001b[0m\u001b[37m\u001b[0m \u001b[1m1s\u001b[0m 5ms/step - accuracy: 0.9960 - loss: 0.0124 - val_accuracy: 0.8671 - val_loss: 0.7813\n",
      "Epoch 4/20\n",
      "\u001b[1m128/128\u001b[0m \u001b[32m━━━━━━━━━━━━━━━━━━━━\u001b[0m\u001b[37m\u001b[0m \u001b[1m1s\u001b[0m 5ms/step - accuracy: 0.9969 - loss: 0.0099 - val_accuracy: 0.8647 - val_loss: 0.8561\n",
      "Epoch 5/20\n",
      "\u001b[1m128/128\u001b[0m \u001b[32m━━━━━━━━━━━━━━━━━━━━\u001b[0m\u001b[37m\u001b[0m \u001b[1m1s\u001b[0m 5ms/step - accuracy: 0.9969 - loss: 0.0104 - val_accuracy: 0.8636 - val_loss: 0.8415\n",
      "Epoch 6/20\n",
      "\u001b[1m128/128\u001b[0m \u001b[32m━━━━━━━━━━━━━━━━━━━━\u001b[0m\u001b[37m\u001b[0m \u001b[1m1s\u001b[0m 5ms/step - accuracy: 0.9967 - loss: 0.0103 - val_accuracy: 0.8652 - val_loss: 0.8956\n",
      "Epoch 7/20\n",
      "\u001b[1m128/128\u001b[0m \u001b[32m━━━━━━━━━━━━━━━━━━━━\u001b[0m\u001b[37m\u001b[0m \u001b[1m1s\u001b[0m 5ms/step - accuracy: 0.9969 - loss: 0.0090 - val_accuracy: 0.8645 - val_loss: 0.8796\n",
      "Epoch 8/20\n",
      "\u001b[1m128/128\u001b[0m \u001b[32m━━━━━━━━━━━━━━━━━━━━\u001b[0m\u001b[37m\u001b[0m \u001b[1m1s\u001b[0m 5ms/step - accuracy: 0.9970 - loss: 0.0085 - val_accuracy: 0.8638 - val_loss: 0.8566\n",
      "Epoch 9/20\n",
      "\u001b[1m128/128\u001b[0m \u001b[32m━━━━━━━━━━━━━━━━━━━━\u001b[0m\u001b[37m\u001b[0m \u001b[1m1s\u001b[0m 5ms/step - accuracy: 0.9965 - loss: 0.0091 - val_accuracy: 0.8656 - val_loss: 0.9149\n",
      "Epoch 10/20\n",
      "\u001b[1m128/128\u001b[0m \u001b[32m━━━━━━━━━━━━━━━━━━━━\u001b[0m\u001b[37m\u001b[0m \u001b[1m1s\u001b[0m 5ms/step - accuracy: 0.9967 - loss: 0.0088 - val_accuracy: 0.8647 - val_loss: 0.9359\n",
      "Epoch 11/20\n",
      "\u001b[1m128/128\u001b[0m \u001b[32m━━━━━━━━━━━━━━━━━━━━\u001b[0m\u001b[37m\u001b[0m \u001b[1m1s\u001b[0m 5ms/step - accuracy: 0.9971 - loss: 0.0098 - val_accuracy: 0.8663 - val_loss: 0.8890\n",
      "Epoch 12/20\n",
      "\u001b[1m128/128\u001b[0m \u001b[32m━━━━━━━━━━━━━━━━━━━━\u001b[0m\u001b[37m\u001b[0m \u001b[1m1s\u001b[0m 5ms/step - accuracy: 0.9969 - loss: 0.0103 - val_accuracy: 0.8652 - val_loss: 0.8974\n",
      "Epoch 13/20\n",
      "\u001b[1m128/128\u001b[0m \u001b[32m━━━━━━━━━━━━━━━━━━━━\u001b[0m\u001b[37m\u001b[0m \u001b[1m1s\u001b[0m 5ms/step - accuracy: 0.9958 - loss: 0.0116 - val_accuracy: 0.8675 - val_loss: 0.9243\n",
      "Epoch 14/20\n",
      "\u001b[1m128/128\u001b[0m \u001b[32m━━━━━━━━━━━━━━━━━━━━\u001b[0m\u001b[37m\u001b[0m \u001b[1m1s\u001b[0m 5ms/step - accuracy: 0.9972 - loss: 0.0097 - val_accuracy: 0.8630 - val_loss: 0.8870\n",
      "Epoch 15/20\n",
      "\u001b[1m128/128\u001b[0m \u001b[32m━━━━━━━━━━━━━━━━━━━━\u001b[0m\u001b[37m\u001b[0m \u001b[1m1s\u001b[0m 5ms/step - accuracy: 0.9970 - loss: 0.0097 - val_accuracy: 0.8669 - val_loss: 0.8916\n",
      "Epoch 16/20\n",
      "\u001b[1m128/128\u001b[0m \u001b[32m━━━━━━━━━━━━━━━━━━━━\u001b[0m\u001b[37m\u001b[0m \u001b[1m1s\u001b[0m 5ms/step - accuracy: 0.9968 - loss: 0.0113 - val_accuracy: 0.8658 - val_loss: 0.8868\n",
      "Epoch 17/20\n",
      "\u001b[1m128/128\u001b[0m \u001b[32m━━━━━━━━━━━━━━━━━━━━\u001b[0m\u001b[37m\u001b[0m \u001b[1m1s\u001b[0m 5ms/step - accuracy: 0.9966 - loss: 0.0109 - val_accuracy: 0.8658 - val_loss: 0.8980\n",
      "Epoch 18/20\n",
      "\u001b[1m128/128\u001b[0m \u001b[32m━━━━━━━━━━━━━━━━━━━━\u001b[0m\u001b[37m\u001b[0m \u001b[1m1s\u001b[0m 5ms/step - accuracy: 0.9969 - loss: 0.0090 - val_accuracy: 0.8669 - val_loss: 0.9331\n",
      "Epoch 19/20\n",
      "\u001b[1m128/128\u001b[0m \u001b[32m━━━━━━━━━━━━━━━━━━━━\u001b[0m\u001b[37m\u001b[0m \u001b[1m1s\u001b[0m 5ms/step - accuracy: 0.9971 - loss: 0.0083 - val_accuracy: 0.8653 - val_loss: 0.9080\n",
      "Epoch 20/20\n",
      "\u001b[1m128/128\u001b[0m \u001b[32m━━━━━━━━━━━━━━━━━━━━\u001b[0m\u001b[37m\u001b[0m \u001b[1m1s\u001b[0m 5ms/step - accuracy: 0.9979 - loss: 0.0065 - val_accuracy: 0.8664 - val_loss: 0.9269\n"
     ]
    },
    {
     "data": {
      "text/plain": [
       "<keras.src.callbacks.history.History at 0x1eafabe5d00>"
      ]
     },
     "execution_count": 44,
     "metadata": {},
     "output_type": "execute_result"
    }
   ],
   "source": [
    "model.fit(x_train_dense, y_train, epochs=20, batch_size=200, validation_split=0.2)"
   ]
  },
  {
   "cell_type": "code",
   "execution_count": 45,
   "id": "f8870b26-b3a8-4ccd-86a6-01fc8b590d04",
   "metadata": {},
   "outputs": [
    {
     "name": "stdout",
     "output_type": "stream",
     "text": [
      "\u001b[1m249/249\u001b[0m \u001b[32m━━━━━━━━━━━━━━━━━━━━\u001b[0m\u001b[37m\u001b[0m \u001b[1m0s\u001b[0m 885us/step\n",
      "Model Performance Metrics:\n",
      "\n",
      "Accuracy       : 0.7206\n",
      "F1 Score       : 0.6250\n",
      "ROC AUC Score  : 0.7194\n",
      "Confusion Matrix:\n",
      "[[3875  116]\n",
      " [2104 1850]]\n"
     ]
    }
   ],
   "source": [
    "y_pred_nn = (model.predict(x_test_dense) >= 0.3).astype(int).flatten()\n",
    "perfomance(y_test, y_pred_nn)"
   ]
  },
  {
   "cell_type": "markdown",
   "id": "618cb2ac-70e4-4e12-b178-4cfe5c2fd6fd",
   "metadata": {},
   "source": [
    "### Using BoW (Count Vectorizer)"
   ]
  },
  {
   "cell_type": "code",
   "execution_count": 46,
   "id": "1ffad36f-9e65-40e4-9e26-24ccbd486526",
   "metadata": {},
   "outputs": [],
   "source": [
    "from sklearn.feature_extraction.text import CountVectorizer\n",
    "x_train_joined = x_train.apply(lambda tokens: ' '.join(tokens))\n",
    "x_test_joined = x_test.apply(lambda tokens: ' '.join(tokens))\n",
    "vectorizer = CountVectorizer(max_features=10000)\n",
    "x_train_cv = vectorizer.fit_transform(x_train_joined)\n",
    "x_test_cv = vectorizer.transform(x_test_joined)"
   ]
  },
  {
   "cell_type": "markdown",
   "id": "28de2019-5d5a-47db-bd77-c08557973736",
   "metadata": {},
   "source": [
    "#### Logistic Regression"
   ]
  },
  {
   "cell_type": "code",
   "execution_count": 47,
   "id": "b4c630e8-16dc-4cc6-a293-82ff0aaf360f",
   "metadata": {},
   "outputs": [],
   "source": [
    "lr1 = LogisticRegression(max_iter = 10000)\n",
    "lr1.fit(x_train_cv, y_train)\n",
    "y_pred_lr1 = lr1.predict(x_test_cv)"
   ]
  },
  {
   "cell_type": "code",
   "execution_count": 48,
   "id": "f39db12a-a599-4714-8c65-6f60260356b0",
   "metadata": {},
   "outputs": [
    {
     "name": "stdout",
     "output_type": "stream",
     "text": [
      "Model Performance Metrics:\n",
      "\n",
      "Accuracy       : 0.8646\n",
      "F1 Score       : 0.8645\n",
      "ROC AUC Score  : 0.8646\n",
      "Confusion Matrix:\n",
      "[[3437  554]\n",
      " [ 522 3432]]\n"
     ]
    }
   ],
   "source": [
    "perfomance(y_test, y_pred_lr1)"
   ]
  },
  {
   "cell_type": "markdown",
   "id": "4250e117-da13-48d0-8775-7488e6f0a0d5",
   "metadata": {},
   "source": [
    "#### Bernoulli Naive Bayes Classifier"
   ]
  },
  {
   "cell_type": "code",
   "execution_count": 49,
   "id": "57be721a-45cb-44d1-9332-933caf7cf0c5",
   "metadata": {},
   "outputs": [],
   "source": [
    "bnb1 = BernoulliNB()\n",
    "bnb1.fit(x_train_cv, y_train)\n",
    "y_pred_nb1  = bnb1.predict(x_test_cv)"
   ]
  },
  {
   "cell_type": "code",
   "execution_count": 53,
   "id": "8adea10d-903c-4f7e-a83e-7acca82aa24a",
   "metadata": {},
   "outputs": [
    {
     "name": "stdout",
     "output_type": "stream",
     "text": [
      "Model Performance Metrics:\n",
      "\n",
      "Accuracy       : 0.8456\n",
      "F1 Score       : 0.8431\n",
      "ROC AUC Score  : 0.8455\n",
      "Confusion Matrix:\n",
      "[[3422  569]\n",
      " [ 658 3296]]\n"
     ]
    }
   ],
   "source": [
    "perfomance(y_test, y_pred_nb1)"
   ]
  },
  {
   "cell_type": "markdown",
   "id": "d6abcf30-070e-4559-90ac-3bd0a9cc368e",
   "metadata": {},
   "source": [
    "#### SVM (Support Vector Machine)"
   ]
  },
  {
   "cell_type": "code",
   "execution_count": 52,
   "id": "b9fc0983-c46d-449d-9c77-5d7ed0b9fa53",
   "metadata": {},
   "outputs": [],
   "source": [
    "svm1 = LinearSVC()\n",
    "svm1.fit(x_train_cv, y_train)\n",
    "y_pred_svm1  = svm1.predict(x_test_cv)"
   ]
  },
  {
   "cell_type": "code",
   "execution_count": 54,
   "id": "030967c2-c291-4a9d-b613-c6a21a4a2347",
   "metadata": {},
   "outputs": [
    {
     "name": "stdout",
     "output_type": "stream",
     "text": [
      "Model Performance Metrics:\n",
      "\n",
      "Accuracy       : 0.8404\n",
      "F1 Score       : 0.8398\n",
      "ROC AUC Score  : 0.8404\n",
      "Confusion Matrix:\n",
      "[[3353  638]\n",
      " [ 630 3324]]\n"
     ]
    }
   ],
   "source": [
    "perfomance(y_test, y_pred_svm1)"
   ]
  },
  {
   "cell_type": "markdown",
   "id": "47ee2bb9-4fd4-42b6-b3b5-ee31f5b7e709",
   "metadata": {},
   "source": [
    "#### Random Forests"
   ]
  },
  {
   "cell_type": "code",
   "execution_count": 57,
   "id": "7d7786f1-4a5a-42f3-b5cf-ec59577bf8fb",
   "metadata": {},
   "outputs": [],
   "source": [
    "rf1 = RandomForestClassifier()\n",
    "rf1.fit(x_train_cv, y_train)\n",
    "y_pred_rf1  = rf1.predict(x_test_cv)"
   ]
  },
  {
   "cell_type": "code",
   "execution_count": 58,
   "id": "54f653cf-bd0d-4602-ab7e-a9971d21c7a5",
   "metadata": {},
   "outputs": [
    {
     "name": "stdout",
     "output_type": "stream",
     "text": [
      "Model Performance Metrics:\n",
      "\n",
      "Accuracy       : 0.8448\n",
      "F1 Score       : 0.8433\n",
      "ROC AUC Score  : 0.8448\n",
      "Confusion Matrix:\n",
      "[[3394  597]\n",
      " [ 636 3318]]\n"
     ]
    }
   ],
   "source": [
    "perfomance(y_test, y_pred_rf1)"
   ]
  },
  {
   "cell_type": "markdown",
   "id": "4cb65380-3126-48a2-ae45-a6f297238b92",
   "metadata": {},
   "source": [
    "#### A simple Neural network with a few dense layers"
   ]
  },
  {
   "cell_type": "code",
   "execution_count": 59,
   "id": "dc226822-88ce-4932-bf3c-83d057f1259a",
   "metadata": {},
   "outputs": [],
   "source": [
    "x_train_dense1 = x_train_cv.toarray()\n",
    "x_test_dense1 = x_test_cv.toarray()"
   ]
  },
  {
   "cell_type": "code",
   "execution_count": 60,
   "id": "9c68e139-b431-4e6b-a044-856a0f4144cd",
   "metadata": {},
   "outputs": [
    {
     "data": {
      "text/html": [
       "<pre style=\"white-space:pre;overflow-x:auto;line-height:normal;font-family:Menlo,'DejaVu Sans Mono',consolas,'Courier New',monospace\"><span style=\"font-weight: bold\">Model: \"sequential_1\"</span>\n",
       "</pre>\n"
      ],
      "text/plain": [
       "\u001b[1mModel: \"sequential_1\"\u001b[0m\n"
      ]
     },
     "metadata": {},
     "output_type": "display_data"
    },
    {
     "data": {
      "text/html": [
       "<pre style=\"white-space:pre;overflow-x:auto;line-height:normal;font-family:Menlo,'DejaVu Sans Mono',consolas,'Courier New',monospace\">┏━━━━━━━━━━━━━━━━━━━━━━━━━━━━━━━━━┳━━━━━━━━━━━━━━━━━━━━━━━━┳━━━━━━━━━━━━━━━┓\n",
       "┃<span style=\"font-weight: bold\"> Layer (type)                    </span>┃<span style=\"font-weight: bold\"> Output Shape           </span>┃<span style=\"font-weight: bold\">       Param # </span>┃\n",
       "┡━━━━━━━━━━━━━━━━━━━━━━━━━━━━━━━━━╇━━━━━━━━━━━━━━━━━━━━━━━━╇━━━━━━━━━━━━━━━┩\n",
       "│ dense_3 (<span style=\"color: #0087ff; text-decoration-color: #0087ff\">Dense</span>)                 │ (<span style=\"color: #00d7ff; text-decoration-color: #00d7ff\">None</span>, <span style=\"color: #00af00; text-decoration-color: #00af00\">128</span>)            │     <span style=\"color: #00af00; text-decoration-color: #00af00\">1,280,128</span> │\n",
       "├─────────────────────────────────┼────────────────────────┼───────────────┤\n",
       "│ dropout_2 (<span style=\"color: #0087ff; text-decoration-color: #0087ff\">Dropout</span>)             │ (<span style=\"color: #00d7ff; text-decoration-color: #00d7ff\">None</span>, <span style=\"color: #00af00; text-decoration-color: #00af00\">128</span>)            │             <span style=\"color: #00af00; text-decoration-color: #00af00\">0</span> │\n",
       "├─────────────────────────────────┼────────────────────────┼───────────────┤\n",
       "│ dense_4 (<span style=\"color: #0087ff; text-decoration-color: #0087ff\">Dense</span>)                 │ (<span style=\"color: #00d7ff; text-decoration-color: #00d7ff\">None</span>, <span style=\"color: #00af00; text-decoration-color: #00af00\">64</span>)             │         <span style=\"color: #00af00; text-decoration-color: #00af00\">8,256</span> │\n",
       "├─────────────────────────────────┼────────────────────────┼───────────────┤\n",
       "│ dropout_3 (<span style=\"color: #0087ff; text-decoration-color: #0087ff\">Dropout</span>)             │ (<span style=\"color: #00d7ff; text-decoration-color: #00d7ff\">None</span>, <span style=\"color: #00af00; text-decoration-color: #00af00\">64</span>)             │             <span style=\"color: #00af00; text-decoration-color: #00af00\">0</span> │\n",
       "├─────────────────────────────────┼────────────────────────┼───────────────┤\n",
       "│ dense_5 (<span style=\"color: #0087ff; text-decoration-color: #0087ff\">Dense</span>)                 │ (<span style=\"color: #00d7ff; text-decoration-color: #00d7ff\">None</span>, <span style=\"color: #00af00; text-decoration-color: #00af00\">1</span>)              │            <span style=\"color: #00af00; text-decoration-color: #00af00\">65</span> │\n",
       "└─────────────────────────────────┴────────────────────────┴───────────────┘\n",
       "</pre>\n"
      ],
      "text/plain": [
       "┏━━━━━━━━━━━━━━━━━━━━━━━━━━━━━━━━━┳━━━━━━━━━━━━━━━━━━━━━━━━┳━━━━━━━━━━━━━━━┓\n",
       "┃\u001b[1m \u001b[0m\u001b[1mLayer (type)                   \u001b[0m\u001b[1m \u001b[0m┃\u001b[1m \u001b[0m\u001b[1mOutput Shape          \u001b[0m\u001b[1m \u001b[0m┃\u001b[1m \u001b[0m\u001b[1m      Param #\u001b[0m\u001b[1m \u001b[0m┃\n",
       "┡━━━━━━━━━━━━━━━━━━━━━━━━━━━━━━━━━╇━━━━━━━━━━━━━━━━━━━━━━━━╇━━━━━━━━━━━━━━━┩\n",
       "│ dense_3 (\u001b[38;5;33mDense\u001b[0m)                 │ (\u001b[38;5;45mNone\u001b[0m, \u001b[38;5;34m128\u001b[0m)            │     \u001b[38;5;34m1,280,128\u001b[0m │\n",
       "├─────────────────────────────────┼────────────────────────┼───────────────┤\n",
       "│ dropout_2 (\u001b[38;5;33mDropout\u001b[0m)             │ (\u001b[38;5;45mNone\u001b[0m, \u001b[38;5;34m128\u001b[0m)            │             \u001b[38;5;34m0\u001b[0m │\n",
       "├─────────────────────────────────┼────────────────────────┼───────────────┤\n",
       "│ dense_4 (\u001b[38;5;33mDense\u001b[0m)                 │ (\u001b[38;5;45mNone\u001b[0m, \u001b[38;5;34m64\u001b[0m)             │         \u001b[38;5;34m8,256\u001b[0m │\n",
       "├─────────────────────────────────┼────────────────────────┼───────────────┤\n",
       "│ dropout_3 (\u001b[38;5;33mDropout\u001b[0m)             │ (\u001b[38;5;45mNone\u001b[0m, \u001b[38;5;34m64\u001b[0m)             │             \u001b[38;5;34m0\u001b[0m │\n",
       "├─────────────────────────────────┼────────────────────────┼───────────────┤\n",
       "│ dense_5 (\u001b[38;5;33mDense\u001b[0m)                 │ (\u001b[38;5;45mNone\u001b[0m, \u001b[38;5;34m1\u001b[0m)              │            \u001b[38;5;34m65\u001b[0m │\n",
       "└─────────────────────────────────┴────────────────────────┴───────────────┘\n"
      ]
     },
     "metadata": {},
     "output_type": "display_data"
    },
    {
     "data": {
      "text/html": [
       "<pre style=\"white-space:pre;overflow-x:auto;line-height:normal;font-family:Menlo,'DejaVu Sans Mono',consolas,'Courier New',monospace\"><span style=\"font-weight: bold\"> Total params: </span><span style=\"color: #00af00; text-decoration-color: #00af00\">1,288,449</span> (4.92 MB)\n",
       "</pre>\n"
      ],
      "text/plain": [
       "\u001b[1m Total params: \u001b[0m\u001b[38;5;34m1,288,449\u001b[0m (4.92 MB)\n"
      ]
     },
     "metadata": {},
     "output_type": "display_data"
    },
    {
     "data": {
      "text/html": [
       "<pre style=\"white-space:pre;overflow-x:auto;line-height:normal;font-family:Menlo,'DejaVu Sans Mono',consolas,'Courier New',monospace\"><span style=\"font-weight: bold\"> Trainable params: </span><span style=\"color: #00af00; text-decoration-color: #00af00\">1,288,449</span> (4.92 MB)\n",
       "</pre>\n"
      ],
      "text/plain": [
       "\u001b[1m Trainable params: \u001b[0m\u001b[38;5;34m1,288,449\u001b[0m (4.92 MB)\n"
      ]
     },
     "metadata": {},
     "output_type": "display_data"
    },
    {
     "data": {
      "text/html": [
       "<pre style=\"white-space:pre;overflow-x:auto;line-height:normal;font-family:Menlo,'DejaVu Sans Mono',consolas,'Courier New',monospace\"><span style=\"font-weight: bold\"> Non-trainable params: </span><span style=\"color: #00af00; text-decoration-color: #00af00\">0</span> (0.00 B)\n",
       "</pre>\n"
      ],
      "text/plain": [
       "\u001b[1m Non-trainable params: \u001b[0m\u001b[38;5;34m0\u001b[0m (0.00 B)\n"
      ]
     },
     "metadata": {},
     "output_type": "display_data"
    }
   ],
   "source": [
    "model1 = keras.Sequential([\n",
    "    layers.Input(shape=(10000,)),\n",
    "    layers.Dense(128, activation='relu'),\n",
    "    layers.Dropout(0.4),\n",
    "    layers.Dense(64, activation='relu'),\n",
    "    layers.Dropout(0.4),\n",
    "    layers.Dense(1, activation='sigmoid')\n",
    "])\n",
    "\n",
    "model1.compile(optimizer='adam', loss='binary_crossentropy', metrics=['accuracy'])\n",
    "model1.summary()"
   ]
  },
  {
   "cell_type": "code",
   "execution_count": 61,
   "id": "6b42c9f3-0c2f-4aff-9968-5002d2c1151f",
   "metadata": {},
   "outputs": [
    {
     "name": "stdout",
     "output_type": "stream",
     "text": [
      "Epoch 1/20\n",
      "\u001b[1m128/128\u001b[0m \u001b[32m━━━━━━━━━━━━━━━━━━━━\u001b[0m\u001b[37m\u001b[0m \u001b[1m9s\u001b[0m 54ms/step - accuracy: 0.7649 - loss: 0.4912 - val_accuracy: 0.8862 - val_loss: 0.2831\n",
      "Epoch 2/20\n",
      "\u001b[1m128/128\u001b[0m \u001b[32m━━━━━━━━━━━━━━━━━━━━\u001b[0m\u001b[37m\u001b[0m \u001b[1m5s\u001b[0m 37ms/step - accuracy: 0.9219 - loss: 0.2145 - val_accuracy: 0.8837 - val_loss: 0.2847\n",
      "Epoch 3/20\n",
      "\u001b[1m128/128\u001b[0m \u001b[32m━━━━━━━━━━━━━━━━━━━━\u001b[0m\u001b[37m\u001b[0m \u001b[1m4s\u001b[0m 27ms/step - accuracy: 0.9529 - loss: 0.1309 - val_accuracy: 0.8834 - val_loss: 0.3338\n",
      "Epoch 4/20\n",
      "\u001b[1m128/128\u001b[0m \u001b[32m━━━━━━━━━━━━━━━━━━━━\u001b[0m\u001b[37m\u001b[0m \u001b[1m4s\u001b[0m 34ms/step - accuracy: 0.9760 - loss: 0.0772 - val_accuracy: 0.8807 - val_loss: 0.3920\n",
      "Epoch 5/20\n",
      "\u001b[1m128/128\u001b[0m \u001b[32m━━━━━━━━━━━━━━━━━━━━\u001b[0m\u001b[37m\u001b[0m \u001b[1m4s\u001b[0m 34ms/step - accuracy: 0.9872 - loss: 0.0427 - val_accuracy: 0.8765 - val_loss: 0.4960\n",
      "Epoch 6/20\n",
      "\u001b[1m128/128\u001b[0m \u001b[32m━━━━━━━━━━━━━━━━━━━━\u001b[0m\u001b[37m\u001b[0m \u001b[1m5s\u001b[0m 38ms/step - accuracy: 0.9906 - loss: 0.0319 - val_accuracy: 0.8770 - val_loss: 0.5502\n",
      "Epoch 7/20\n",
      "\u001b[1m128/128\u001b[0m \u001b[32m━━━━━━━━━━━━━━━━━━━━\u001b[0m\u001b[37m\u001b[0m \u001b[1m4s\u001b[0m 32ms/step - accuracy: 0.9947 - loss: 0.0207 - val_accuracy: 0.8737 - val_loss: 0.5418\n",
      "Epoch 8/20\n",
      "\u001b[1m128/128\u001b[0m \u001b[32m━━━━━━━━━━━━━━━━━━━━\u001b[0m\u001b[37m\u001b[0m \u001b[1m5s\u001b[0m 37ms/step - accuracy: 0.9937 - loss: 0.0203 - val_accuracy: 0.8818 - val_loss: 0.6073\n",
      "Epoch 9/20\n",
      "\u001b[1m128/128\u001b[0m \u001b[32m━━━━━━━━━━━━━━━━━━━━\u001b[0m\u001b[37m\u001b[0m \u001b[1m5s\u001b[0m 36ms/step - accuracy: 0.9963 - loss: 0.0130 - val_accuracy: 0.8768 - val_loss: 0.6427\n",
      "Epoch 10/20\n",
      "\u001b[1m128/128\u001b[0m \u001b[32m━━━━━━━━━━━━━━━━━━━━\u001b[0m\u001b[37m\u001b[0m \u001b[1m5s\u001b[0m 38ms/step - accuracy: 0.9979 - loss: 0.0093 - val_accuracy: 0.8765 - val_loss: 0.7103\n",
      "Epoch 11/20\n",
      "\u001b[1m128/128\u001b[0m \u001b[32m━━━━━━━━━━━━━━━━━━━━\u001b[0m\u001b[37m\u001b[0m \u001b[1m4s\u001b[0m 30ms/step - accuracy: 0.9961 - loss: 0.0132 - val_accuracy: 0.8792 - val_loss: 0.7066\n",
      "Epoch 12/20\n",
      "\u001b[1m128/128\u001b[0m \u001b[32m━━━━━━━━━━━━━━━━━━━━\u001b[0m\u001b[37m\u001b[0m \u001b[1m5s\u001b[0m 36ms/step - accuracy: 0.9943 - loss: 0.0150 - val_accuracy: 0.8792 - val_loss: 0.6816\n",
      "Epoch 13/20\n",
      "\u001b[1m128/128\u001b[0m \u001b[32m━━━━━━━━━━━━━━━━━━━━\u001b[0m\u001b[37m\u001b[0m \u001b[1m5s\u001b[0m 36ms/step - accuracy: 0.9965 - loss: 0.0133 - val_accuracy: 0.8765 - val_loss: 0.7329\n",
      "Epoch 14/20\n",
      "\u001b[1m128/128\u001b[0m \u001b[32m━━━━━━━━━━━━━━━━━━━━\u001b[0m\u001b[37m\u001b[0m \u001b[1m4s\u001b[0m 34ms/step - accuracy: 0.9967 - loss: 0.0122 - val_accuracy: 0.8787 - val_loss: 0.7100\n",
      "Epoch 15/20\n",
      "\u001b[1m128/128\u001b[0m \u001b[32m━━━━━━━━━━━━━━━━━━━━\u001b[0m\u001b[37m\u001b[0m \u001b[1m5s\u001b[0m 35ms/step - accuracy: 0.9970 - loss: 0.0107 - val_accuracy: 0.8773 - val_loss: 0.7411\n",
      "Epoch 16/20\n",
      "\u001b[1m128/128\u001b[0m \u001b[32m━━━━━━━━━━━━━━━━━━━━\u001b[0m\u001b[37m\u001b[0m \u001b[1m5s\u001b[0m 37ms/step - accuracy: 0.9983 - loss: 0.0069 - val_accuracy: 0.8774 - val_loss: 0.7841\n",
      "Epoch 17/20\n",
      "\u001b[1m128/128\u001b[0m \u001b[32m━━━━━━━━━━━━━━━━━━━━\u001b[0m\u001b[37m\u001b[0m \u001b[1m4s\u001b[0m 32ms/step - accuracy: 0.9969 - loss: 0.0110 - val_accuracy: 0.8781 - val_loss: 0.7468\n",
      "Epoch 18/20\n",
      "\u001b[1m128/128\u001b[0m \u001b[32m━━━━━━━━━━━━━━━━━━━━\u001b[0m\u001b[37m\u001b[0m \u001b[1m4s\u001b[0m 34ms/step - accuracy: 0.9976 - loss: 0.0077 - val_accuracy: 0.8774 - val_loss: 0.7733\n",
      "Epoch 19/20\n",
      "\u001b[1m128/128\u001b[0m \u001b[32m━━━━━━━━━━━━━━━━━━━━\u001b[0m\u001b[37m\u001b[0m \u001b[1m3s\u001b[0m 19ms/step - accuracy: 0.9978 - loss: 0.0068 - val_accuracy: 0.8793 - val_loss: 0.8875\n",
      "Epoch 20/20\n",
      "\u001b[1m128/128\u001b[0m \u001b[32m━━━━━━━━━━━━━━━━━━━━\u001b[0m\u001b[37m\u001b[0m \u001b[1m3s\u001b[0m 21ms/step - accuracy: 0.9982 - loss: 0.0056 - val_accuracy: 0.8779 - val_loss: 0.8747\n"
     ]
    },
    {
     "data": {
      "text/plain": [
       "<keras.src.callbacks.history.History at 0x1ea8a7b1040>"
      ]
     },
     "execution_count": 61,
     "metadata": {},
     "output_type": "execute_result"
    }
   ],
   "source": [
    "model1.fit(x_train_dense1, y_train, epochs=20, batch_size=200, validation_split=0.2)"
   ]
  },
  {
   "cell_type": "code",
   "execution_count": 62,
   "id": "e3b534d9-a820-4a6a-a261-5ddac7a7e013",
   "metadata": {},
   "outputs": [
    {
     "name": "stdout",
     "output_type": "stream",
     "text": [
      "\u001b[1m249/249\u001b[0m \u001b[32m━━━━━━━━━━━━━━━━━━━━\u001b[0m\u001b[37m\u001b[0m \u001b[1m1s\u001b[0m 4ms/step\n",
      "Model Performance Metrics:\n",
      "\n",
      "Accuracy       : 0.8733\n",
      "F1 Score       : 0.8729\n",
      "ROC AUC Score  : 0.8733\n",
      "Confusion Matrix:\n",
      "[[3479  512]\n",
      " [ 495 3459]]\n"
     ]
    }
   ],
   "source": [
    "y_pred_nn1 = (model1.predict(x_test_dense1) >= 0.5).astype(int).flatten()\n",
    "perfomance(y_test, y_pred_nn1)"
   ]
  },
  {
   "cell_type": "markdown",
   "id": "941223ac-80d0-485b-a2e3-b223f18b6a0a",
   "metadata": {},
   "source": [
    "### Using BoW (TF-IDF Vectorizer)"
   ]
  },
  {
   "cell_type": "code",
   "execution_count": 63,
   "id": "4100fc09-67a0-4a74-b591-eff012844492",
   "metadata": {},
   "outputs": [],
   "source": [
    "from sklearn.feature_extraction.text import TfidfVectorizer\n",
    "vectorizer1 = TfidfVectorizer(max_features=10000)\n",
    "x_train_tfidf = vectorizer1.fit_transform(x_train_joined)\n",
    "x_test_tfidf = vectorizer1.transform(x_test_joined)"
   ]
  },
  {
   "cell_type": "markdown",
   "id": "92ef3bb0-f480-4da6-a0d0-b528de06bd27",
   "metadata": {},
   "source": [
    "#### Logistic Regression"
   ]
  },
  {
   "cell_type": "code",
   "execution_count": 64,
   "id": "3582b7b3-f04f-4547-8bb3-c0f89cb5d073",
   "metadata": {},
   "outputs": [],
   "source": [
    "lr2 = LogisticRegression(max_iter = 10000)\n",
    "lr2.fit(x_train_tfidf, y_train)\n",
    "y_pred_lr2 = lr2.predict(x_test_tfidf)"
   ]
  },
  {
   "cell_type": "code",
   "execution_count": 65,
   "id": "8810ed5b-b10f-4528-8b46-14c943412fad",
   "metadata": {},
   "outputs": [
    {
     "name": "stdout",
     "output_type": "stream",
     "text": [
      "Model Performance Metrics:\n",
      "\n",
      "Accuracy       : 0.8850\n",
      "F1 Score       : 0.8859\n",
      "ROC AUC Score  : 0.8850\n",
      "Confusion Matrix:\n",
      "[[3481  510]\n",
      " [ 404 3550]]\n"
     ]
    }
   ],
   "source": [
    "perfomance(y_test, y_pred_lr2)"
   ]
  },
  {
   "cell_type": "markdown",
   "id": "c782c5c9-31f3-46c6-b653-3ebed52e94d2",
   "metadata": {},
   "source": [
    "#### Bernoulli Naive Bayes Classifier"
   ]
  },
  {
   "cell_type": "code",
   "execution_count": 66,
   "id": "85b48b35-ee54-46d7-8e63-c65ef0bc892a",
   "metadata": {},
   "outputs": [],
   "source": [
    "bnb2 = BernoulliNB()\n",
    "bnb2.fit(x_train_tfidf, y_train)\n",
    "y_pred_nb2  = bnb2.predict(x_test_tfidf)"
   ]
  },
  {
   "cell_type": "code",
   "execution_count": 67,
   "id": "e50f15b1-87f3-4f3f-b751-a4f9e973ada3",
   "metadata": {},
   "outputs": [
    {
     "name": "stdout",
     "output_type": "stream",
     "text": [
      "Model Performance Metrics:\n",
      "\n",
      "Accuracy       : 0.8456\n",
      "F1 Score       : 0.8431\n",
      "ROC AUC Score  : 0.8455\n",
      "Confusion Matrix:\n",
      "[[3422  569]\n",
      " [ 658 3296]]\n"
     ]
    }
   ],
   "source": [
    "perfomance(y_test, y_pred_nb2)"
   ]
  },
  {
   "cell_type": "markdown",
   "id": "66a7748f-c421-43dd-93b8-5a45a034573c",
   "metadata": {},
   "source": [
    "#### SVM (Support Vector Machine)"
   ]
  },
  {
   "cell_type": "code",
   "execution_count": 68,
   "id": "778b7691-2552-46b6-8b6f-c7821d662837",
   "metadata": {},
   "outputs": [],
   "source": [
    "svm2 = LinearSVC()\n",
    "svm2.fit(x_train_tfidf, y_train)\n",
    "y_pred_svm2  = svm2.predict(x_test_tfidf)"
   ]
  },
  {
   "cell_type": "code",
   "execution_count": 69,
   "id": "0c9c4a15-80f3-41ad-8e7d-54582ba594f2",
   "metadata": {},
   "outputs": [
    {
     "name": "stdout",
     "output_type": "stream",
     "text": [
      "Model Performance Metrics:\n",
      "\n",
      "Accuracy       : 0.8813\n",
      "F1 Score       : 0.8819\n",
      "ROC AUC Score  : 0.8814\n",
      "Confusion Matrix:\n",
      "[[3482  509]\n",
      " [ 434 3520]]\n"
     ]
    }
   ],
   "source": [
    "perfomance(y_test, y_pred_svm2)"
   ]
  },
  {
   "cell_type": "markdown",
   "id": "ca1045af-e1f5-4146-88d9-ecd33b9a0bb0",
   "metadata": {},
   "source": [
    "#### Random Forests"
   ]
  },
  {
   "cell_type": "code",
   "execution_count": 70,
   "id": "6e6c0c50-5a0b-45e8-8602-f3f858ceed36",
   "metadata": {},
   "outputs": [],
   "source": [
    "rf2 = RandomForestClassifier()\n",
    "rf2.fit(x_train_tfidf, y_train)\n",
    "y_pred_rf2  = rf2.predict(x_test_tfidf)"
   ]
  },
  {
   "cell_type": "code",
   "execution_count": 71,
   "id": "4759d644-0c9c-428e-89b5-f7e38b52d2af",
   "metadata": {},
   "outputs": [
    {
     "name": "stdout",
     "output_type": "stream",
     "text": [
      "Model Performance Metrics:\n",
      "\n",
      "Accuracy       : 0.8437\n",
      "F1 Score       : 0.8409\n",
      "ROC AUC Score  : 0.8436\n",
      "Confusion Matrix:\n",
      "[[3421  570]\n",
      " [ 672 3282]]\n"
     ]
    }
   ],
   "source": [
    "perfomance(y_test, y_pred_rf2)"
   ]
  },
  {
   "cell_type": "markdown",
   "id": "87043412-97d9-462c-b8f9-520f15a9bb4b",
   "metadata": {},
   "source": [
    "#### A simple Neural network with a few dense layers"
   ]
  },
  {
   "cell_type": "code",
   "execution_count": 72,
   "id": "2823fe05-5420-414e-806a-883d0836d4dd",
   "metadata": {},
   "outputs": [],
   "source": [
    "x_train_dense2 = x_train_tfidf.toarray()\n",
    "x_test_dense2 = x_test_tfidf.toarray()"
   ]
  },
  {
   "cell_type": "code",
   "execution_count": 73,
   "id": "20352f77-418f-4884-9675-a272e6c63bea",
   "metadata": {},
   "outputs": [
    {
     "data": {
      "text/html": [
       "<pre style=\"white-space:pre;overflow-x:auto;line-height:normal;font-family:Menlo,'DejaVu Sans Mono',consolas,'Courier New',monospace\"><span style=\"font-weight: bold\">Model: \"sequential_2\"</span>\n",
       "</pre>\n"
      ],
      "text/plain": [
       "\u001b[1mModel: \"sequential_2\"\u001b[0m\n"
      ]
     },
     "metadata": {},
     "output_type": "display_data"
    },
    {
     "data": {
      "text/html": [
       "<pre style=\"white-space:pre;overflow-x:auto;line-height:normal;font-family:Menlo,'DejaVu Sans Mono',consolas,'Courier New',monospace\">┏━━━━━━━━━━━━━━━━━━━━━━━━━━━━━━━━━┳━━━━━━━━━━━━━━━━━━━━━━━━┳━━━━━━━━━━━━━━━┓\n",
       "┃<span style=\"font-weight: bold\"> Layer (type)                    </span>┃<span style=\"font-weight: bold\"> Output Shape           </span>┃<span style=\"font-weight: bold\">       Param # </span>┃\n",
       "┡━━━━━━━━━━━━━━━━━━━━━━━━━━━━━━━━━╇━━━━━━━━━━━━━━━━━━━━━━━━╇━━━━━━━━━━━━━━━┩\n",
       "│ dense_6 (<span style=\"color: #0087ff; text-decoration-color: #0087ff\">Dense</span>)                 │ (<span style=\"color: #00d7ff; text-decoration-color: #00d7ff\">None</span>, <span style=\"color: #00af00; text-decoration-color: #00af00\">128</span>)            │     <span style=\"color: #00af00; text-decoration-color: #00af00\">1,280,128</span> │\n",
       "├─────────────────────────────────┼────────────────────────┼───────────────┤\n",
       "│ dropout_4 (<span style=\"color: #0087ff; text-decoration-color: #0087ff\">Dropout</span>)             │ (<span style=\"color: #00d7ff; text-decoration-color: #00d7ff\">None</span>, <span style=\"color: #00af00; text-decoration-color: #00af00\">128</span>)            │             <span style=\"color: #00af00; text-decoration-color: #00af00\">0</span> │\n",
       "├─────────────────────────────────┼────────────────────────┼───────────────┤\n",
       "│ dense_7 (<span style=\"color: #0087ff; text-decoration-color: #0087ff\">Dense</span>)                 │ (<span style=\"color: #00d7ff; text-decoration-color: #00d7ff\">None</span>, <span style=\"color: #00af00; text-decoration-color: #00af00\">64</span>)             │         <span style=\"color: #00af00; text-decoration-color: #00af00\">8,256</span> │\n",
       "├─────────────────────────────────┼────────────────────────┼───────────────┤\n",
       "│ dropout_5 (<span style=\"color: #0087ff; text-decoration-color: #0087ff\">Dropout</span>)             │ (<span style=\"color: #00d7ff; text-decoration-color: #00d7ff\">None</span>, <span style=\"color: #00af00; text-decoration-color: #00af00\">64</span>)             │             <span style=\"color: #00af00; text-decoration-color: #00af00\">0</span> │\n",
       "├─────────────────────────────────┼────────────────────────┼───────────────┤\n",
       "│ dense_8 (<span style=\"color: #0087ff; text-decoration-color: #0087ff\">Dense</span>)                 │ (<span style=\"color: #00d7ff; text-decoration-color: #00d7ff\">None</span>, <span style=\"color: #00af00; text-decoration-color: #00af00\">1</span>)              │            <span style=\"color: #00af00; text-decoration-color: #00af00\">65</span> │\n",
       "└─────────────────────────────────┴────────────────────────┴───────────────┘\n",
       "</pre>\n"
      ],
      "text/plain": [
       "┏━━━━━━━━━━━━━━━━━━━━━━━━━━━━━━━━━┳━━━━━━━━━━━━━━━━━━━━━━━━┳━━━━━━━━━━━━━━━┓\n",
       "┃\u001b[1m \u001b[0m\u001b[1mLayer (type)                   \u001b[0m\u001b[1m \u001b[0m┃\u001b[1m \u001b[0m\u001b[1mOutput Shape          \u001b[0m\u001b[1m \u001b[0m┃\u001b[1m \u001b[0m\u001b[1m      Param #\u001b[0m\u001b[1m \u001b[0m┃\n",
       "┡━━━━━━━━━━━━━━━━━━━━━━━━━━━━━━━━━╇━━━━━━━━━━━━━━━━━━━━━━━━╇━━━━━━━━━━━━━━━┩\n",
       "│ dense_6 (\u001b[38;5;33mDense\u001b[0m)                 │ (\u001b[38;5;45mNone\u001b[0m, \u001b[38;5;34m128\u001b[0m)            │     \u001b[38;5;34m1,280,128\u001b[0m │\n",
       "├─────────────────────────────────┼────────────────────────┼───────────────┤\n",
       "│ dropout_4 (\u001b[38;5;33mDropout\u001b[0m)             │ (\u001b[38;5;45mNone\u001b[0m, \u001b[38;5;34m128\u001b[0m)            │             \u001b[38;5;34m0\u001b[0m │\n",
       "├─────────────────────────────────┼────────────────────────┼───────────────┤\n",
       "│ dense_7 (\u001b[38;5;33mDense\u001b[0m)                 │ (\u001b[38;5;45mNone\u001b[0m, \u001b[38;5;34m64\u001b[0m)             │         \u001b[38;5;34m8,256\u001b[0m │\n",
       "├─────────────────────────────────┼────────────────────────┼───────────────┤\n",
       "│ dropout_5 (\u001b[38;5;33mDropout\u001b[0m)             │ (\u001b[38;5;45mNone\u001b[0m, \u001b[38;5;34m64\u001b[0m)             │             \u001b[38;5;34m0\u001b[0m │\n",
       "├─────────────────────────────────┼────────────────────────┼───────────────┤\n",
       "│ dense_8 (\u001b[38;5;33mDense\u001b[0m)                 │ (\u001b[38;5;45mNone\u001b[0m, \u001b[38;5;34m1\u001b[0m)              │            \u001b[38;5;34m65\u001b[0m │\n",
       "└─────────────────────────────────┴────────────────────────┴───────────────┘\n"
      ]
     },
     "metadata": {},
     "output_type": "display_data"
    },
    {
     "data": {
      "text/html": [
       "<pre style=\"white-space:pre;overflow-x:auto;line-height:normal;font-family:Menlo,'DejaVu Sans Mono',consolas,'Courier New',monospace\"><span style=\"font-weight: bold\"> Total params: </span><span style=\"color: #00af00; text-decoration-color: #00af00\">1,288,449</span> (4.92 MB)\n",
       "</pre>\n"
      ],
      "text/plain": [
       "\u001b[1m Total params: \u001b[0m\u001b[38;5;34m1,288,449\u001b[0m (4.92 MB)\n"
      ]
     },
     "metadata": {},
     "output_type": "display_data"
    },
    {
     "data": {
      "text/html": [
       "<pre style=\"white-space:pre;overflow-x:auto;line-height:normal;font-family:Menlo,'DejaVu Sans Mono',consolas,'Courier New',monospace\"><span style=\"font-weight: bold\"> Trainable params: </span><span style=\"color: #00af00; text-decoration-color: #00af00\">1,288,449</span> (4.92 MB)\n",
       "</pre>\n"
      ],
      "text/plain": [
       "\u001b[1m Trainable params: \u001b[0m\u001b[38;5;34m1,288,449\u001b[0m (4.92 MB)\n"
      ]
     },
     "metadata": {},
     "output_type": "display_data"
    },
    {
     "data": {
      "text/html": [
       "<pre style=\"white-space:pre;overflow-x:auto;line-height:normal;font-family:Menlo,'DejaVu Sans Mono',consolas,'Courier New',monospace\"><span style=\"font-weight: bold\"> Non-trainable params: </span><span style=\"color: #00af00; text-decoration-color: #00af00\">0</span> (0.00 B)\n",
       "</pre>\n"
      ],
      "text/plain": [
       "\u001b[1m Non-trainable params: \u001b[0m\u001b[38;5;34m0\u001b[0m (0.00 B)\n"
      ]
     },
     "metadata": {},
     "output_type": "display_data"
    }
   ],
   "source": [
    "model2 = keras.Sequential([\n",
    "    layers.Input(shape=(10000,)),\n",
    "    layers.Dense(128, activation='relu'),\n",
    "    layers.Dropout(0.4),\n",
    "    layers.Dense(64, activation='relu'),\n",
    "    layers.Dropout(0.4),\n",
    "    layers.Dense(1, activation='sigmoid')\n",
    "])\n",
    "\n",
    "model2.compile(optimizer='adam', loss='binary_crossentropy', metrics=['accuracy'])\n",
    "model2.summary()"
   ]
  },
  {
   "cell_type": "code",
   "execution_count": 74,
   "id": "7f76984a-6e9c-4ec3-bb60-373f164510bc",
   "metadata": {},
   "outputs": [
    {
     "name": "stdout",
     "output_type": "stream",
     "text": [
      "Epoch 1/20\n",
      "\u001b[1m128/128\u001b[0m \u001b[32m━━━━━━━━━━━━━━━━━━━━\u001b[0m\u001b[37m\u001b[0m \u001b[1m8s\u001b[0m 47ms/step - accuracy: 0.7373 - loss: 0.5607 - val_accuracy: 0.8878 - val_loss: 0.2694\n",
      "Epoch 2/20\n",
      "\u001b[1m128/128\u001b[0m \u001b[32m━━━━━━━━━━━━━━━━━━━━\u001b[0m\u001b[37m\u001b[0m \u001b[1m4s\u001b[0m 31ms/step - accuracy: 0.9250 - loss: 0.2003 - val_accuracy: 0.8872 - val_loss: 0.2733\n",
      "Epoch 3/20\n",
      "\u001b[1m128/128\u001b[0m \u001b[32m━━━━━━━━━━━━━━━━━━━━\u001b[0m\u001b[37m\u001b[0m \u001b[1m3s\u001b[0m 26ms/step - accuracy: 0.9530 - loss: 0.1404 - val_accuracy: 0.8789 - val_loss: 0.3016\n",
      "Epoch 4/20\n",
      "\u001b[1m128/128\u001b[0m \u001b[32m━━━━━━━━━━━━━━━━━━━━\u001b[0m\u001b[37m\u001b[0m \u001b[1m5s\u001b[0m 41ms/step - accuracy: 0.9696 - loss: 0.1003 - val_accuracy: 0.8738 - val_loss: 0.3554\n",
      "Epoch 5/20\n",
      "\u001b[1m128/128\u001b[0m \u001b[32m━━━━━━━━━━━━━━━━━━━━\u001b[0m\u001b[37m\u001b[0m \u001b[1m5s\u001b[0m 36ms/step - accuracy: 0.9827 - loss: 0.0642 - val_accuracy: 0.8737 - val_loss: 0.4106\n",
      "Epoch 6/20\n",
      "\u001b[1m128/128\u001b[0m \u001b[32m━━━━━━━━━━━━━━━━━━━━\u001b[0m\u001b[37m\u001b[0m \u001b[1m3s\u001b[0m 21ms/step - accuracy: 0.9916 - loss: 0.0359 - val_accuracy: 0.8729 - val_loss: 0.4654\n",
      "Epoch 7/20\n",
      "\u001b[1m128/128\u001b[0m \u001b[32m━━━━━━━━━━━━━━━━━━━━\u001b[0m\u001b[37m\u001b[0m \u001b[1m3s\u001b[0m 21ms/step - accuracy: 0.9947 - loss: 0.0227 - val_accuracy: 0.8688 - val_loss: 0.5371\n",
      "Epoch 8/20\n",
      "\u001b[1m128/128\u001b[0m \u001b[32m━━━━━━━━━━━━━━━━━━━━\u001b[0m\u001b[37m\u001b[0m \u001b[1m5s\u001b[0m 20ms/step - accuracy: 0.9975 - loss: 0.0134 - val_accuracy: 0.8671 - val_loss: 0.6125\n",
      "Epoch 9/20\n",
      "\u001b[1m128/128\u001b[0m \u001b[32m━━━━━━━━━━━━━━━━━━━━\u001b[0m\u001b[37m\u001b[0m \u001b[1m5s\u001b[0m 18ms/step - accuracy: 0.9981 - loss: 0.0096 - val_accuracy: 0.8656 - val_loss: 0.6661\n",
      "Epoch 10/20\n",
      "\u001b[1m128/128\u001b[0m \u001b[32m━━━━━━━━━━━━━━━━━━━━\u001b[0m\u001b[37m\u001b[0m \u001b[1m3s\u001b[0m 22ms/step - accuracy: 0.9993 - loss: 0.0053 - val_accuracy: 0.8708 - val_loss: 0.6957\n",
      "Epoch 11/20\n",
      "\u001b[1m128/128\u001b[0m \u001b[32m━━━━━━━━━━━━━━━━━━━━\u001b[0m\u001b[37m\u001b[0m \u001b[1m4s\u001b[0m 34ms/step - accuracy: 0.9989 - loss: 0.0050 - val_accuracy: 0.8699 - val_loss: 0.7568\n",
      "Epoch 12/20\n",
      "\u001b[1m128/128\u001b[0m \u001b[32m━━━━━━━━━━━━━━━━━━━━\u001b[0m\u001b[37m\u001b[0m \u001b[1m5s\u001b[0m 40ms/step - accuracy: 0.9993 - loss: 0.0041 - val_accuracy: 0.8674 - val_loss: 0.7891\n",
      "Epoch 13/20\n",
      "\u001b[1m128/128\u001b[0m \u001b[32m━━━━━━━━━━━━━━━━━━━━\u001b[0m\u001b[37m\u001b[0m \u001b[1m4s\u001b[0m 31ms/step - accuracy: 0.9993 - loss: 0.0030 - val_accuracy: 0.8680 - val_loss: 0.8115\n",
      "Epoch 14/20\n",
      "\u001b[1m128/128\u001b[0m \u001b[32m━━━━━━━━━━━━━━━━━━━━\u001b[0m\u001b[37m\u001b[0m \u001b[1m5s\u001b[0m 37ms/step - accuracy: 0.9997 - loss: 0.0026 - val_accuracy: 0.8693 - val_loss: 0.8397\n",
      "Epoch 15/20\n",
      "\u001b[1m128/128\u001b[0m \u001b[32m━━━━━━━━━━━━━━━━━━━━\u001b[0m\u001b[37m\u001b[0m \u001b[1m3s\u001b[0m 27ms/step - accuracy: 0.9994 - loss: 0.0026 - val_accuracy: 0.8693 - val_loss: 0.8532\n",
      "Epoch 16/20\n",
      "\u001b[1m128/128\u001b[0m \u001b[32m━━━━━━━━━━━━━━━━━━━━\u001b[0m\u001b[37m\u001b[0m \u001b[1m4s\u001b[0m 31ms/step - accuracy: 0.9993 - loss: 0.0024 - val_accuracy: 0.8693 - val_loss: 0.8706\n",
      "Epoch 17/20\n",
      "\u001b[1m128/128\u001b[0m \u001b[32m━━━━━━━━━━━━━━━━━━━━\u001b[0m\u001b[37m\u001b[0m \u001b[1m4s\u001b[0m 27ms/step - accuracy: 0.9995 - loss: 0.0022 - val_accuracy: 0.8693 - val_loss: 0.8629\n",
      "Epoch 18/20\n",
      "\u001b[1m128/128\u001b[0m \u001b[32m━━━━━━━━━━━━━━━━━━━━\u001b[0m\u001b[37m\u001b[0m \u001b[1m5s\u001b[0m 35ms/step - accuracy: 0.9996 - loss: 0.0022 - val_accuracy: 0.8694 - val_loss: 0.8986\n",
      "Epoch 19/20\n",
      "\u001b[1m128/128\u001b[0m \u001b[32m━━━━━━━━━━━━━━━━━━━━\u001b[0m\u001b[37m\u001b[0m \u001b[1m4s\u001b[0m 31ms/step - accuracy: 0.9992 - loss: 0.0023 - val_accuracy: 0.8682 - val_loss: 0.9090\n",
      "Epoch 20/20\n",
      "\u001b[1m128/128\u001b[0m \u001b[32m━━━━━━━━━━━━━━━━━━━━\u001b[0m\u001b[37m\u001b[0m \u001b[1m4s\u001b[0m 28ms/step - accuracy: 0.9998 - loss: 0.0016 - val_accuracy: 0.8674 - val_loss: 0.9469\n"
     ]
    },
    {
     "data": {
      "text/plain": [
       "<keras.src.callbacks.history.History at 0x1eabfc4dd00>"
      ]
     },
     "execution_count": 74,
     "metadata": {},
     "output_type": "execute_result"
    }
   ],
   "source": [
    "model2.fit(x_train_dense2, y_train, epochs=20, batch_size=200, validation_split=0.2)"
   ]
  },
  {
   "cell_type": "code",
   "execution_count": 75,
   "id": "cfeb86b4-2723-4e6e-abf3-fb3a038484a6",
   "metadata": {},
   "outputs": [
    {
     "name": "stdout",
     "output_type": "stream",
     "text": [
      "\u001b[1m249/249\u001b[0m \u001b[32m━━━━━━━━━━━━━━━━━━━━\u001b[0m\u001b[37m\u001b[0m \u001b[1m1s\u001b[0m 4ms/step\n",
      "Model Performance Metrics:\n",
      "\n",
      "Accuracy       : 0.8608\n",
      "F1 Score       : 0.8590\n",
      "ROC AUC Score  : 0.8608\n",
      "Confusion Matrix:\n",
      "[[3469  522]\n",
      " [ 584 3370]]\n"
     ]
    }
   ],
   "source": [
    "y_pred_nn2 = (model1.predict(x_test_dense2) >= 0.5).astype(int).flatten()\n",
    "perfomance(y_test, y_pred_nn2)"
   ]
  },
  {
   "cell_type": "markdown",
   "id": "4a7a3008-213e-4aeb-a2fe-833d590eb04f",
   "metadata": {},
   "source": [
    "### Using Word2Vec"
   ]
  },
  {
   "cell_type": "code",
   "execution_count": 76,
   "id": "9065e81d-85ab-47cf-954e-be33dadf90c4",
   "metadata": {},
   "outputs": [],
   "source": [
    "w2v = Word2Vec(sentences=x_train, vector_size=200, window=5, min_count=3, workers=4, epochs = 10)"
   ]
  },
  {
   "cell_type": "code",
   "execution_count": 77,
   "id": "4965f9ff-fefe-4630-a850-fb0d29166255",
   "metadata": {},
   "outputs": [],
   "source": [
    "def review_vector(tokens, model, vector_size=200):\n",
    "    vec = np.zeros(vector_size)\n",
    "    count = 0\n",
    "    for word in tokens:\n",
    "        if word in model.wv:\n",
    "            vec += model.wv[word]\n",
    "            count += 1\n",
    "    if count != 0:\n",
    "        vec /= count\n",
    "    return vec"
   ]
  },
  {
   "cell_type": "code",
   "execution_count": 78,
   "id": "1ecc0f73-ca40-4190-b12e-4bce37e1fa28",
   "metadata": {},
   "outputs": [],
   "source": [
    "x_train_w2v = np.array([review_vector(tokens, w2v) for tokens in x_train])\n",
    "x_test_w2v = np.array([review_vector(tokens, w2v) for tokens in x_test])"
   ]
  },
  {
   "cell_type": "markdown",
   "id": "f462fe17-5a03-4c46-961b-be14d62713ba",
   "metadata": {},
   "source": [
    "#### Logistic Regression"
   ]
  },
  {
   "cell_type": "code",
   "execution_count": 79,
   "id": "40fefe70-16c3-436a-82b5-aa63eecc5050",
   "metadata": {},
   "outputs": [],
   "source": [
    "lr3 = LogisticRegression(max_iter = 100000)\n",
    "lr3.fit(x_train_w2v, y_train)\n",
    "y_pred_lr3 = lr3.predict(x_test_w2v)"
   ]
  },
  {
   "cell_type": "code",
   "execution_count": 80,
   "id": "724e3252-1f8a-43bb-ba91-531f4a80f1af",
   "metadata": {},
   "outputs": [
    {
     "name": "stdout",
     "output_type": "stream",
     "text": [
      "Model Performance Metrics:\n",
      "\n",
      "Accuracy       : 0.8714\n",
      "F1 Score       : 0.8709\n",
      "ROC AUC Score  : 0.8714\n",
      "Confusion Matrix:\n",
      "[[3477  514]\n",
      " [ 508 3446]]\n"
     ]
    }
   ],
   "source": [
    "perfomance(y_test, y_pred_lr3)"
   ]
  },
  {
   "cell_type": "markdown",
   "id": "8a2a1340-5fc8-4cde-b6c0-9bba7d225334",
   "metadata": {},
   "source": [
    "#### Bernoulli Naive Bayes Classifier"
   ]
  },
  {
   "cell_type": "code",
   "execution_count": 81,
   "id": "60a3297f-7986-4e0a-98e7-39d0ba84aaca",
   "metadata": {},
   "outputs": [],
   "source": [
    "bnb3 = BernoulliNB()\n",
    "bnb3.fit(x_train_w2v, y_train)\n",
    "y_pred_nb3 = bnb3.predict(x_test_w2v)"
   ]
  },
  {
   "cell_type": "code",
   "execution_count": 82,
   "id": "bf6c5416-d796-4b7c-9b51-9cddbcb6970c",
   "metadata": {},
   "outputs": [
    {
     "name": "stdout",
     "output_type": "stream",
     "text": [
      "Model Performance Metrics:\n",
      "\n",
      "Accuracy       : 0.7597\n",
      "F1 Score       : 0.7488\n",
      "ROC AUC Score  : 0.7595\n",
      "Confusion Matrix:\n",
      "[[3191  800]\n",
      " [1109 2845]]\n"
     ]
    }
   ],
   "source": [
    "perfomance(y_test, y_pred_nb3)"
   ]
  },
  {
   "cell_type": "markdown",
   "id": "464f0bb9-7190-4850-a4d8-7ed724796f8d",
   "metadata": {},
   "source": [
    "#### SVM (Support Vector Machine)"
   ]
  },
  {
   "cell_type": "code",
   "execution_count": 83,
   "id": "d93352ad-797b-4d12-b869-84bb87e4f442",
   "metadata": {},
   "outputs": [],
   "source": [
    "svm3 = LinearSVC()\n",
    "svm3.fit(x_train_w2v, y_train)\n",
    "y_pred_svm3  = svm3.predict(x_test_w2v)"
   ]
  },
  {
   "cell_type": "code",
   "execution_count": 84,
   "id": "ebc899de-30fe-4675-bc8c-179cfc2986b9",
   "metadata": {},
   "outputs": [
    {
     "name": "stdout",
     "output_type": "stream",
     "text": [
      "Model Performance Metrics:\n",
      "\n",
      "Accuracy       : 0.8717\n",
      "F1 Score       : 0.8715\n",
      "ROC AUC Score  : 0.8718\n",
      "Confusion Matrix:\n",
      "[[3469  522]\n",
      " [ 497 3457]]\n"
     ]
    }
   ],
   "source": [
    "perfomance(y_test, y_pred_svm3)"
   ]
  },
  {
   "cell_type": "markdown",
   "id": "f6f1d303-bf44-4084-8be8-859bd4d90441",
   "metadata": {},
   "source": [
    "#### Random Forests"
   ]
  },
  {
   "cell_type": "code",
   "execution_count": 85,
   "id": "4676308d-1331-42dd-b6eb-9fa60076e528",
   "metadata": {},
   "outputs": [],
   "source": [
    "rf3 = RandomForestClassifier()\n",
    "rf3.fit(x_train_w2v, y_train)\n",
    "y_pred_rf3  = rf3.predict(x_test_w2v)"
   ]
  },
  {
   "cell_type": "code",
   "execution_count": 86,
   "id": "a34be27b-32cf-42b2-86ff-ac53efb00502",
   "metadata": {},
   "outputs": [
    {
     "name": "stdout",
     "output_type": "stream",
     "text": [
      "Model Performance Metrics:\n",
      "\n",
      "Accuracy       : 0.8370\n",
      "F1 Score       : 0.8387\n",
      "ROC AUC Score  : 0.8371\n",
      "Confusion Matrix:\n",
      "[[3283  708]\n",
      " [ 587 3367]]\n"
     ]
    }
   ],
   "source": [
    "perfomance(y_test, y_pred_rf3)"
   ]
  },
  {
   "cell_type": "markdown",
   "id": "e8b66e1e-fc7d-462c-8a18-3317bc406d87",
   "metadata": {},
   "source": [
    "#### A simple Neural network with a few dense layers"
   ]
  },
  {
   "cell_type": "code",
   "execution_count": 134,
   "id": "19f8352b-9899-45af-a910-c63a04b7113a",
   "metadata": {},
   "outputs": [
    {
     "data": {
      "text/html": [
       "<pre style=\"white-space:pre;overflow-x:auto;line-height:normal;font-family:Menlo,'DejaVu Sans Mono',consolas,'Courier New',monospace\"><span style=\"font-weight: bold\">Model: \"sequential_15\"</span>\n",
       "</pre>\n"
      ],
      "text/plain": [
       "\u001b[1mModel: \"sequential_15\"\u001b[0m\n"
      ]
     },
     "metadata": {},
     "output_type": "display_data"
    },
    {
     "data": {
      "text/html": [
       "<pre style=\"white-space:pre;overflow-x:auto;line-height:normal;font-family:Menlo,'DejaVu Sans Mono',consolas,'Courier New',monospace\">┏━━━━━━━━━━━━━━━━━━━━━━━━━━━━━━━━━┳━━━━━━━━━━━━━━━━━━━━━━━━┳━━━━━━━━━━━━━━━┓\n",
       "┃<span style=\"font-weight: bold\"> Layer (type)                    </span>┃<span style=\"font-weight: bold\"> Output Shape           </span>┃<span style=\"font-weight: bold\">       Param # </span>┃\n",
       "┡━━━━━━━━━━━━━━━━━━━━━━━━━━━━━━━━━╇━━━━━━━━━━━━━━━━━━━━━━━━╇━━━━━━━━━━━━━━━┩\n",
       "│ dense_53 (<span style=\"color: #0087ff; text-decoration-color: #0087ff\">Dense</span>)                │ (<span style=\"color: #00d7ff; text-decoration-color: #00d7ff\">None</span>, <span style=\"color: #00af00; text-decoration-color: #00af00\">256</span>)            │        <span style=\"color: #00af00; text-decoration-color: #00af00\">51,456</span> │\n",
       "├─────────────────────────────────┼────────────────────────┼───────────────┤\n",
       "│ dropout_38 (<span style=\"color: #0087ff; text-decoration-color: #0087ff\">Dropout</span>)            │ (<span style=\"color: #00d7ff; text-decoration-color: #00d7ff\">None</span>, <span style=\"color: #00af00; text-decoration-color: #00af00\">256</span>)            │             <span style=\"color: #00af00; text-decoration-color: #00af00\">0</span> │\n",
       "├─────────────────────────────────┼────────────────────────┼───────────────┤\n",
       "│ dense_54 (<span style=\"color: #0087ff; text-decoration-color: #0087ff\">Dense</span>)                │ (<span style=\"color: #00d7ff; text-decoration-color: #00d7ff\">None</span>, <span style=\"color: #00af00; text-decoration-color: #00af00\">128</span>)            │        <span style=\"color: #00af00; text-decoration-color: #00af00\">32,896</span> │\n",
       "├─────────────────────────────────┼────────────────────────┼───────────────┤\n",
       "│ dropout_39 (<span style=\"color: #0087ff; text-decoration-color: #0087ff\">Dropout</span>)            │ (<span style=\"color: #00d7ff; text-decoration-color: #00d7ff\">None</span>, <span style=\"color: #00af00; text-decoration-color: #00af00\">128</span>)            │             <span style=\"color: #00af00; text-decoration-color: #00af00\">0</span> │\n",
       "├─────────────────────────────────┼────────────────────────┼───────────────┤\n",
       "│ dense_55 (<span style=\"color: #0087ff; text-decoration-color: #0087ff\">Dense</span>)                │ (<span style=\"color: #00d7ff; text-decoration-color: #00d7ff\">None</span>, <span style=\"color: #00af00; text-decoration-color: #00af00\">64</span>)             │         <span style=\"color: #00af00; text-decoration-color: #00af00\">8,256</span> │\n",
       "├─────────────────────────────────┼────────────────────────┼───────────────┤\n",
       "│ dropout_40 (<span style=\"color: #0087ff; text-decoration-color: #0087ff\">Dropout</span>)            │ (<span style=\"color: #00d7ff; text-decoration-color: #00d7ff\">None</span>, <span style=\"color: #00af00; text-decoration-color: #00af00\">64</span>)             │             <span style=\"color: #00af00; text-decoration-color: #00af00\">0</span> │\n",
       "├─────────────────────────────────┼────────────────────────┼───────────────┤\n",
       "│ dense_56 (<span style=\"color: #0087ff; text-decoration-color: #0087ff\">Dense</span>)                │ (<span style=\"color: #00d7ff; text-decoration-color: #00d7ff\">None</span>, <span style=\"color: #00af00; text-decoration-color: #00af00\">1</span>)              │            <span style=\"color: #00af00; text-decoration-color: #00af00\">65</span> │\n",
       "└─────────────────────────────────┴────────────────────────┴───────────────┘\n",
       "</pre>\n"
      ],
      "text/plain": [
       "┏━━━━━━━━━━━━━━━━━━━━━━━━━━━━━━━━━┳━━━━━━━━━━━━━━━━━━━━━━━━┳━━━━━━━━━━━━━━━┓\n",
       "┃\u001b[1m \u001b[0m\u001b[1mLayer (type)                   \u001b[0m\u001b[1m \u001b[0m┃\u001b[1m \u001b[0m\u001b[1mOutput Shape          \u001b[0m\u001b[1m \u001b[0m┃\u001b[1m \u001b[0m\u001b[1m      Param #\u001b[0m\u001b[1m \u001b[0m┃\n",
       "┡━━━━━━━━━━━━━━━━━━━━━━━━━━━━━━━━━╇━━━━━━━━━━━━━━━━━━━━━━━━╇━━━━━━━━━━━━━━━┩\n",
       "│ dense_53 (\u001b[38;5;33mDense\u001b[0m)                │ (\u001b[38;5;45mNone\u001b[0m, \u001b[38;5;34m256\u001b[0m)            │        \u001b[38;5;34m51,456\u001b[0m │\n",
       "├─────────────────────────────────┼────────────────────────┼───────────────┤\n",
       "│ dropout_38 (\u001b[38;5;33mDropout\u001b[0m)            │ (\u001b[38;5;45mNone\u001b[0m, \u001b[38;5;34m256\u001b[0m)            │             \u001b[38;5;34m0\u001b[0m │\n",
       "├─────────────────────────────────┼────────────────────────┼───────────────┤\n",
       "│ dense_54 (\u001b[38;5;33mDense\u001b[0m)                │ (\u001b[38;5;45mNone\u001b[0m, \u001b[38;5;34m128\u001b[0m)            │        \u001b[38;5;34m32,896\u001b[0m │\n",
       "├─────────────────────────────────┼────────────────────────┼───────────────┤\n",
       "│ dropout_39 (\u001b[38;5;33mDropout\u001b[0m)            │ (\u001b[38;5;45mNone\u001b[0m, \u001b[38;5;34m128\u001b[0m)            │             \u001b[38;5;34m0\u001b[0m │\n",
       "├─────────────────────────────────┼────────────────────────┼───────────────┤\n",
       "│ dense_55 (\u001b[38;5;33mDense\u001b[0m)                │ (\u001b[38;5;45mNone\u001b[0m, \u001b[38;5;34m64\u001b[0m)             │         \u001b[38;5;34m8,256\u001b[0m │\n",
       "├─────────────────────────────────┼────────────────────────┼───────────────┤\n",
       "│ dropout_40 (\u001b[38;5;33mDropout\u001b[0m)            │ (\u001b[38;5;45mNone\u001b[0m, \u001b[38;5;34m64\u001b[0m)             │             \u001b[38;5;34m0\u001b[0m │\n",
       "├─────────────────────────────────┼────────────────────────┼───────────────┤\n",
       "│ dense_56 (\u001b[38;5;33mDense\u001b[0m)                │ (\u001b[38;5;45mNone\u001b[0m, \u001b[38;5;34m1\u001b[0m)              │            \u001b[38;5;34m65\u001b[0m │\n",
       "└─────────────────────────────────┴────────────────────────┴───────────────┘\n"
      ]
     },
     "metadata": {},
     "output_type": "display_data"
    },
    {
     "data": {
      "text/html": [
       "<pre style=\"white-space:pre;overflow-x:auto;line-height:normal;font-family:Menlo,'DejaVu Sans Mono',consolas,'Courier New',monospace\"><span style=\"font-weight: bold\"> Total params: </span><span style=\"color: #00af00; text-decoration-color: #00af00\">92,673</span> (362.00 KB)\n",
       "</pre>\n"
      ],
      "text/plain": [
       "\u001b[1m Total params: \u001b[0m\u001b[38;5;34m92,673\u001b[0m (362.00 KB)\n"
      ]
     },
     "metadata": {},
     "output_type": "display_data"
    },
    {
     "data": {
      "text/html": [
       "<pre style=\"white-space:pre;overflow-x:auto;line-height:normal;font-family:Menlo,'DejaVu Sans Mono',consolas,'Courier New',monospace\"><span style=\"font-weight: bold\"> Trainable params: </span><span style=\"color: #00af00; text-decoration-color: #00af00\">92,673</span> (362.00 KB)\n",
       "</pre>\n"
      ],
      "text/plain": [
       "\u001b[1m Trainable params: \u001b[0m\u001b[38;5;34m92,673\u001b[0m (362.00 KB)\n"
      ]
     },
     "metadata": {},
     "output_type": "display_data"
    },
    {
     "data": {
      "text/html": [
       "<pre style=\"white-space:pre;overflow-x:auto;line-height:normal;font-family:Menlo,'DejaVu Sans Mono',consolas,'Courier New',monospace\"><span style=\"font-weight: bold\"> Non-trainable params: </span><span style=\"color: #00af00; text-decoration-color: #00af00\">0</span> (0.00 B)\n",
       "</pre>\n"
      ],
      "text/plain": [
       "\u001b[1m Non-trainable params: \u001b[0m\u001b[38;5;34m0\u001b[0m (0.00 B)\n"
      ]
     },
     "metadata": {},
     "output_type": "display_data"
    }
   ],
   "source": [
    "model3 = keras.Sequential([\n",
    "    layers.Input(shape=(200,)),\n",
    "    layers.Dense(256, activation='relu'),\n",
    "    layers.Dropout(0.4),\n",
    "    layers.Dense(128, activation='relu'),\n",
    "    layers.Dropout(0.4),\n",
    "    layers.Dense(64, activation='relu'),\n",
    "    layers.Dropout(0.4),\n",
    "    layers.Dense(1, activation='sigmoid')\n",
    "])\n",
    "\n",
    "model3.compile(optimizer='adam', loss='binary_crossentropy', metrics=['accuracy'])\n",
    "model3.summary()"
   ]
  },
  {
   "cell_type": "code",
   "execution_count": 135,
   "id": "391776e5-445a-4be5-844a-a04aca1c3a11",
   "metadata": {},
   "outputs": [
    {
     "name": "stdout",
     "output_type": "stream",
     "text": [
      "Epoch 1/20\n",
      "\u001b[1m128/128\u001b[0m \u001b[32m━━━━━━━━━━━━━━━━━━━━\u001b[0m\u001b[37m\u001b[0m \u001b[1m5s\u001b[0m 15ms/step - accuracy: 0.6717 - loss: 0.5784 - val_accuracy: 0.8669 - val_loss: 0.3139\n",
      "Epoch 2/20\n",
      "\u001b[1m128/128\u001b[0m \u001b[32m━━━━━━━━━━━━━━━━━━━━\u001b[0m\u001b[37m\u001b[0m \u001b[1m2s\u001b[0m 11ms/step - accuracy: 0.8648 - loss: 0.3302 - val_accuracy: 0.8759 - val_loss: 0.2968\n",
      "Epoch 3/20\n",
      "\u001b[1m128/128\u001b[0m \u001b[32m━━━━━━━━━━━━━━━━━━━━\u001b[0m\u001b[37m\u001b[0m \u001b[1m2s\u001b[0m 13ms/step - accuracy: 0.8678 - loss: 0.3173 - val_accuracy: 0.8763 - val_loss: 0.2945\n",
      "Epoch 4/20\n",
      "\u001b[1m128/128\u001b[0m \u001b[32m━━━━━━━━━━━━━━━━━━━━\u001b[0m\u001b[37m\u001b[0m \u001b[1m1s\u001b[0m 9ms/step - accuracy: 0.8695 - loss: 0.3129 - val_accuracy: 0.8774 - val_loss: 0.2918\n",
      "Epoch 5/20\n",
      "\u001b[1m128/128\u001b[0m \u001b[32m━━━━━━━━━━━━━━━━━━━━\u001b[0m\u001b[37m\u001b[0m \u001b[1m1s\u001b[0m 8ms/step - accuracy: 0.8775 - loss: 0.3007 - val_accuracy: 0.8718 - val_loss: 0.3019\n",
      "Epoch 6/20\n",
      "\u001b[1m128/128\u001b[0m \u001b[32m━━━━━━━━━━━━━━━━━━━━\u001b[0m\u001b[37m\u001b[0m \u001b[1m2s\u001b[0m 11ms/step - accuracy: 0.8777 - loss: 0.3039 - val_accuracy: 0.8792 - val_loss: 0.2910\n",
      "Epoch 7/20\n",
      "\u001b[1m128/128\u001b[0m \u001b[32m━━━━━━━━━━━━━━━━━━━━\u001b[0m\u001b[37m\u001b[0m \u001b[1m2s\u001b[0m 12ms/step - accuracy: 0.8808 - loss: 0.2929 - val_accuracy: 0.8814 - val_loss: 0.2877\n",
      "Epoch 8/20\n",
      "\u001b[1m128/128\u001b[0m \u001b[32m━━━━━━━━━━━━━━━━━━━━\u001b[0m\u001b[37m\u001b[0m \u001b[1m2s\u001b[0m 12ms/step - accuracy: 0.8797 - loss: 0.2934 - val_accuracy: 0.8800 - val_loss: 0.2873\n",
      "Epoch 9/20\n",
      "\u001b[1m128/128\u001b[0m \u001b[32m━━━━━━━━━━━━━━━━━━━━\u001b[0m\u001b[37m\u001b[0m \u001b[1m2s\u001b[0m 12ms/step - accuracy: 0.8826 - loss: 0.2869 - val_accuracy: 0.8818 - val_loss: 0.2856\n",
      "Epoch 10/20\n",
      "\u001b[1m128/128\u001b[0m \u001b[32m━━━━━━━━━━━━━━━━━━━━\u001b[0m\u001b[37m\u001b[0m \u001b[1m1s\u001b[0m 11ms/step - accuracy: 0.8818 - loss: 0.2912 - val_accuracy: 0.8822 - val_loss: 0.2841\n",
      "Epoch 11/20\n",
      "\u001b[1m128/128\u001b[0m \u001b[32m━━━━━━━━━━━━━━━━━━━━\u001b[0m\u001b[37m\u001b[0m \u001b[1m2s\u001b[0m 12ms/step - accuracy: 0.8838 - loss: 0.2862 - val_accuracy: 0.8853 - val_loss: 0.2831\n",
      "Epoch 12/20\n",
      "\u001b[1m128/128\u001b[0m \u001b[32m━━━━━━━━━━━━━━━━━━━━\u001b[0m\u001b[37m\u001b[0m \u001b[1m1s\u001b[0m 11ms/step - accuracy: 0.8868 - loss: 0.2787 - val_accuracy: 0.8784 - val_loss: 0.2898\n",
      "Epoch 13/20\n",
      "\u001b[1m128/128\u001b[0m \u001b[32m━━━━━━━━━━━━━━━━━━━━\u001b[0m\u001b[37m\u001b[0m \u001b[1m1s\u001b[0m 10ms/step - accuracy: 0.8833 - loss: 0.2823 - val_accuracy: 0.8844 - val_loss: 0.2848\n",
      "Epoch 14/20\n",
      "\u001b[1m128/128\u001b[0m \u001b[32m━━━━━━━━━━━━━━━━━━━━\u001b[0m\u001b[37m\u001b[0m \u001b[1m1s\u001b[0m 10ms/step - accuracy: 0.8834 - loss: 0.2812 - val_accuracy: 0.8817 - val_loss: 0.2849\n",
      "Epoch 15/20\n",
      "\u001b[1m128/128\u001b[0m \u001b[32m━━━━━━━━━━━━━━━━━━━━\u001b[0m\u001b[37m\u001b[0m \u001b[1m1s\u001b[0m 10ms/step - accuracy: 0.8849 - loss: 0.2848 - val_accuracy: 0.8751 - val_loss: 0.2968\n",
      "Epoch 16/20\n",
      "\u001b[1m128/128\u001b[0m \u001b[32m━━━━━━━━━━━━━━━━━━━━\u001b[0m\u001b[37m\u001b[0m \u001b[1m3s\u001b[0m 11ms/step - accuracy: 0.8919 - loss: 0.2702 - val_accuracy: 0.8789 - val_loss: 0.2914\n",
      "Epoch 17/20\n",
      "\u001b[1m128/128\u001b[0m \u001b[32m━━━━━━━━━━━━━━━━━━━━\u001b[0m\u001b[37m\u001b[0m \u001b[1m1s\u001b[0m 10ms/step - accuracy: 0.8880 - loss: 0.2725 - val_accuracy: 0.8782 - val_loss: 0.2980\n",
      "Epoch 18/20\n",
      "\u001b[1m128/128\u001b[0m \u001b[32m━━━━━━━━━━━━━━━━━━━━\u001b[0m\u001b[37m\u001b[0m \u001b[1m1s\u001b[0m 10ms/step - accuracy: 0.8830 - loss: 0.2827 - val_accuracy: 0.8845 - val_loss: 0.2821\n",
      "Epoch 19/20\n",
      "\u001b[1m128/128\u001b[0m \u001b[32m━━━━━━━━━━━━━━━━━━━━\u001b[0m\u001b[37m\u001b[0m \u001b[1m1s\u001b[0m 11ms/step - accuracy: 0.8929 - loss: 0.2635 - val_accuracy: 0.8840 - val_loss: 0.2816\n",
      "Epoch 20/20\n",
      "\u001b[1m128/128\u001b[0m \u001b[32m━━━━━━━━━━━━━━━━━━━━\u001b[0m\u001b[37m\u001b[0m \u001b[1m1s\u001b[0m 9ms/step - accuracy: 0.8933 - loss: 0.2641 - val_accuracy: 0.8776 - val_loss: 0.2924\n"
     ]
    },
    {
     "data": {
      "text/plain": [
       "<keras.src.callbacks.history.History at 0x1eaa13c9130>"
      ]
     },
     "execution_count": 135,
     "metadata": {},
     "output_type": "execute_result"
    }
   ],
   "source": [
    "model3.fit(x_train_w2v, y_train, epochs=20, batch_size=200, validation_split=0.2)"
   ]
  },
  {
   "cell_type": "code",
   "execution_count": 136,
   "id": "4cbb68a7-e909-4742-be0d-fad843afb409",
   "metadata": {},
   "outputs": [
    {
     "name": "stdout",
     "output_type": "stream",
     "text": [
      "\u001b[1m249/249\u001b[0m \u001b[32m━━━━━━━━━━━━━━━━━━━━\u001b[0m\u001b[37m\u001b[0m \u001b[1m1s\u001b[0m 2ms/step\n",
      "Model Performance Metrics:\n",
      "\n",
      "Accuracy       : 0.8710\n",
      "F1 Score       : 0.8776\n",
      "ROC AUC Score  : 0.8713\n",
      "Confusion Matrix:\n",
      "[[3244  747]\n",
      " [ 278 3676]]\n"
     ]
    }
   ],
   "source": [
    "y_pred_nn3 = (model3.predict(x_test_w2v) >= 0.5).astype(int).flatten()\n",
    "perfomance(y_test, y_pred_nn3)"
   ]
  },
  {
   "cell_type": "markdown",
   "id": "49dc42bd-21cb-48fc-89e9-3b667a730445",
   "metadata": {},
   "source": [
    "# END"
   ]
  }
 ],
 "metadata": {
  "kernelspec": {
   "display_name": "Python 3 (ipykernel)",
   "language": "python",
   "name": "python3"
  },
  "language_info": {
   "codemirror_mode": {
    "name": "ipython",
    "version": 3
   },
   "file_extension": ".py",
   "mimetype": "text/x-python",
   "name": "python",
   "nbconvert_exporter": "python",
   "pygments_lexer": "ipython3",
   "version": "3.12.7"
  }
 },
 "nbformat": 4,
 "nbformat_minor": 5
}
